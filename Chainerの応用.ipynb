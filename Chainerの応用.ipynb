{
  "nbformat": 4,
  "nbformat_minor": 0,
  "metadata": {
    "colab": {
      "name": "Chainerの応用.ipynb",
      "version": "0.3.2",
      "provenance": [],
      "collapsed_sections": [],
      "include_colab_link": true
    },
    "kernelspec": {
      "name": "python3",
      "display_name": "Python 3"
    },
    "accelerator": "GPU"
  },
  "cells": [
    {
      "cell_type": "markdown",
      "metadata": {
        "id": "view-in-github",
        "colab_type": "text"
      },
      "source": [
        "<a href=\"https://colab.research.google.com/github/MoritaHiroki87/ZZ_MachineLearningNote/blob/master/Chainer%E3%81%AE%E5%BF%9C%E7%94%A8.ipynb\" target=\"_parent\"><img src=\"https://colab.research.google.com/assets/colab-badge.svg\" alt=\"Open In Colab\"/></a>"
      ]
    },
    {
      "cell_type": "markdown",
      "metadata": {
        "id": "dWtQafp5gjZ2",
        "colab_type": "text"
      },
      "source": [
        "# 15 Chainerの応用"
      ]
    },
    {
      "cell_type": "code",
      "metadata": {
        "id": "sgMlrQ3Hgrkq",
        "colab_type": "code",
        "colab": {}
      },
      "source": [
        "from sklearn.datasets import load_iris\n",
        "\n",
        "x, t = load_iris(return_X_y=True)\n",
        "x = x.astype('float32')\n",
        "t = t.astype('int32')"
      ],
      "execution_count": 0,
      "outputs": []
    },
    {
      "cell_type": "markdown",
      "metadata": {
        "id": "nD6Zg15RhPjg",
        "colab_type": "text"
      },
      "source": [
        "# 15.1 step1: データセットの準備\n",
        "## 15.1.1 TupleDataset\n",
        "入力と目標値を与えるとペアにした状態で返してくれるのがTupleDataset。便利。   \n",
        "以前は訓練の中でインデックスから引っ張ってきてた。\n",
        "\n",
        "元はこんな感じ。\n",
        "\n",
        "``` python\n",
        "        index = order[i:i+n_batchsize]\n",
        "        x_train_batch = x_train[index,:]\n",
        "        t_train_batch = t_train[index]\n",
        "```\n"
      ]
    },
    {
      "cell_type": "code",
      "metadata": {
        "id": "NqupyI9es-gQ",
        "colab_type": "code",
        "colab": {}
      },
      "source": [
        "from chainer.datasets import TupleDataset\n",
        "\n",
        "dataset = TupleDataset(x, t)"
      ],
      "execution_count": 0,
      "outputs": []
    },
    {
      "cell_type": "code",
      "metadata": {
        "id": "2NUvBSm9tILb",
        "colab_type": "code",
        "outputId": "f7416095-19a6-455f-8eca-7cd7c471d2f3",
        "colab": {
          "base_uri": "https://localhost:8080/",
          "height": 34
        }
      },
      "source": [
        "dataset[0]"
      ],
      "execution_count": 0,
      "outputs": [
        {
          "output_type": "execute_result",
          "data": {
            "text/plain": [
              "(array([5.1, 3.5, 1.4, 0.2], dtype=float32), 0)"
            ]
          },
          "metadata": {
            "tags": []
          },
          "execution_count": 70
        }
      ]
    },
    {
      "cell_type": "code",
      "metadata": {
        "id": "W9Z5eZHktl2_",
        "colab_type": "code",
        "outputId": "7da88416-c3e4-4cc8-d6bf-3d2c46038fc5",
        "colab": {
          "base_uri": "https://localhost:8080/",
          "height": 51
        }
      },
      "source": [
        "dataset[:2]"
      ],
      "execution_count": 0,
      "outputs": [
        {
          "output_type": "execute_result",
          "data": {
            "text/plain": [
              "[(array([5.1, 3.5, 1.4, 0.2], dtype=float32), 0),\n",
              " (array([4.9, 3. , 1.4, 0.2], dtype=float32), 0)]"
            ]
          },
          "metadata": {
            "tags": []
          },
          "execution_count": 71
        }
      ]
    },
    {
      "cell_type": "code",
      "metadata": {
        "id": "2iT4rk5YtoOu",
        "colab_type": "code",
        "outputId": "68f58797-dc91-4b33-e06d-b1f2f033dd66",
        "colab": {
          "base_uri": "https://localhost:8080/",
          "height": 102
        }
      },
      "source": [
        "dataset[:10:2]"
      ],
      "execution_count": 0,
      "outputs": [
        {
          "output_type": "execute_result",
          "data": {
            "text/plain": [
              "[(array([5.1, 3.5, 1.4, 0.2], dtype=float32), 0),\n",
              " (array([4.7, 3.2, 1.3, 0.2], dtype=float32), 0),\n",
              " (array([5. , 3.6, 1.4, 0.2], dtype=float32), 0),\n",
              " (array([4.6, 3.4, 1.4, 0.3], dtype=float32), 0),\n",
              " (array([4.4, 2.9, 1.4, 0.2], dtype=float32), 0)]"
            ]
          },
          "metadata": {
            "tags": []
          },
          "execution_count": 72
        }
      ]
    },
    {
      "cell_type": "markdown",
      "metadata": {
        "id": "wjypxGA5trhB",
        "colab_type": "text"
      },
      "source": [
        "## 15.1.2 データセットの分割\n",
        "基礎編で訓練用、検証用、テスト用に分割してたけど、そういうのもChainerにある。   \n",
        "上で作ったTupleDatasetが元になっていることが前提で、入出力がばらけてないからその分少し楽。\n",
        "\n",
        "元のやり方は下記。\n",
        "```\n",
        "# データセットを分割するモジュールの読み込み\n",
        "from sklearn.model_selection import train_test_split\n",
        "\n",
        "# テスト用の分割\n",
        "x_train_val, x_test, t_train_val, t_test = train_test_split(x, t, test_size=0.3, random_state=0)\n",
        "\n",
        "# 訓練と検証の分割\n",
        "x_train, x_val, t_train, t_val = train_test_split(x_train_val, t_train_val, test_size=0.3, random_state=0)\n",
        "```"
      ]
    },
    {
      "cell_type": "code",
      "metadata": {
        "id": "FprGxZJnuSWJ",
        "colab_type": "code",
        "colab": {}
      },
      "source": [
        "from chainer.datasets import split_dataset_random\n",
        "\n",
        "train_val, test = split_dataset_random(dataset, int(len(dataset) * 0.7), seed=0)\n",
        "train, valid = split_dataset_random(train_val, int(len(train_val) * 0.7), seed=0)"
      ],
      "execution_count": 0,
      "outputs": []
    },
    {
      "cell_type": "markdown",
      "metadata": {
        "id": "dem1_OzHVFz7",
        "colab_type": "text"
      },
      "source": [
        "## 15.1.3 SerialIterator\n",
        "エポックシャッフルを上手いことしてくれる。（とは？）\n",
        "#### ・エポックシャッフル\n",
        "→\n",
        "\n",
        "以前は下記のような流れで実施していた。\n",
        "\n",
        "```\n",
        "# わからん\n",
        "\n",
        "```"
      ]
    },
    {
      "cell_type": "code",
      "metadata": {
        "id": "K7_qNZKWW8eq",
        "colab_type": "code",
        "outputId": "a8893e12-7141-4cb1-8354-6781bf3e0d5f",
        "colab": {
          "base_uri": "https://localhost:8080/",
          "height": 85
        }
      },
      "source": [
        "from chainer.iterators import SerialIterator\n",
        "\n",
        "train_iter = SerialIterator(train, batch_size=4, repeat=True, shuffle=True)\n",
        "\n",
        "minibatch = train_iter.next()\n",
        "\n",
        "minibatch"
      ],
      "execution_count": 0,
      "outputs": [
        {
          "output_type": "execute_result",
          "data": {
            "text/plain": [
              "[(array([6.3, 3.3, 4.7, 1.6], dtype=float32), 1),\n",
              " (array([6.3, 2.5, 5. , 1.9], dtype=float32), 2),\n",
              " (array([5.5, 4.2, 1.4, 0.2], dtype=float32), 0),\n",
              " (array([7.7, 3. , 6.1, 2.3], dtype=float32), 2)]"
            ]
          },
          "metadata": {
            "tags": []
          },
          "execution_count": 74
        }
      ]
    },
    {
      "cell_type": "markdown",
      "metadata": {
        "id": "LTe_NcsGXOwp",
        "colab_type": "text"
      },
      "source": [
        "# 15.2 step2 ネットワークを決める\n",
        "## 15.2.1 Chain\n",
        "以前のやり方では、ネットワークをリンク（層）とファンクション（活性化関数）に分けて、それぞれChainerがいろんな層と活性化関数持ってるからそれ引き込んで、Sequentialで層をデザインしてた。かつなんか層の意味が俺には若干よく分かんなかった。入力次元数ってなんだ？　あるノードに入る入力の次元のことか？　それって前のノードの出力と同じ数じゃないのか？　特に全結合層なら。\n",
        "\n",
        "まあとにかく以下のような具合に書いていた。\n",
        "\n",
        "```\n",
        "from chainer import Sequential\n",
        "\n",
        "# net としてインスタンス化\n",
        "n_input = 4\n",
        "n_hidden = 10\n",
        "n_output = 3\n",
        "\n",
        "net = Sequential(\n",
        "    L.Linear(n_input, n_hidden), F.relu,\n",
        "    L.Linear(n_hidden, n_hidden), F.relu,\n",
        "    L.Linear(n_hidden, n_output)\n",
        ")\n",
        "```"
      ]
    },
    {
      "cell_type": "code",
      "metadata": {
        "id": "MYX8yR0QaoTz",
        "colab_type": "code",
        "colab": {}
      },
      "source": [
        "import chainer\n",
        "import chainer.links as L\n",
        "import chainer.functions as F\n",
        "\n",
        "\n",
        "class Net(chainer.Chain):\n",
        "    \n",
        "    def __init__(self, n_in=4, n_hidden=3, n_out=3):\n",
        "        super().__init__()\n",
        "        # これ何？ なんかわからんがこのinit_scope内に書いた層に関してオプティマイザで更新かかるっぽい。\n",
        "        with self.init_scope():\n",
        "            self.l1 = L.Linear(n_in, n_hidden)\n",
        "            self.l2 = L.Linear(n_hidden, n_hidden)\n",
        "            self.l3 = L.Linear(n_hidden, n_out)\n",
        "    \n",
        "    def forward(self, x):\n",
        "        h = F.relu(self.l1(x))\n",
        "        h = F.relu(self.l2(h))\n",
        "        h = self.l3(h)\n",
        "        return h\n",
        "    \n",
        "    \n",
        "net = Net()"
      ],
      "execution_count": 0,
      "outputs": []
    },
    {
      "cell_type": "code",
      "metadata": {
        "id": "YDdnlps9BgQB",
        "colab_type": "code",
        "colab": {}
      },
      "source": [
        "net = Net(n_hidden=100)"
      ],
      "execution_count": 0,
      "outputs": []
    },
    {
      "cell_type": "markdown",
      "metadata": {
        "id": "ICJgzJ2Sb2bD",
        "colab_type": "text"
      },
      "source": [
        "# 15.3 step3: 目的関数を決める\n",
        "目的関数っていうと、損失関数のことか。出力値に対してソフトマックスとかかけてあげた結果のやつか。   \n",
        "ここでchainerチュートリアルのテキストでは正規化項などの非常に難しいことを言い出していて、まあよくわからんのだ。わかるけどピンとこんのだ。\n",
        "というか重みの更新のことを言い出していて、それって最適化手法の話では...？　と思う。\n",
        "\n",
        "まあそれらはいいとして、Chainerではパラメータの更新時に更新計算をカスタマイズする方法を二種類提供しているとのこと。\n",
        "ひとつ目はバイアスを含むパラメータ全てに対して処理を行うオプティマイザフックという機能。\n",
        "ふたつ目は個々のパラメータに対して処理を行うもので、ネットワークのパラメータが持っているUpdateRuleというオブジェクトにフック関数を追加する。（？）\n",
        "\n"
      ]
    },
    {
      "cell_type": "code",
      "metadata": {
        "id": "MVKHtT-ZothE",
        "colab_type": "code",
        "colab": {}
      },
      "source": [
        "from chainer import optimizers\n",
        "from chainer.optimizer_hooks import WeightDecay\n",
        "\n",
        "optimizer = optimizers.SGD(lr=0.001) # 学習率を0.01に設定\n",
        "optimizer.setup(net)\n",
        "\n",
        "for param in net.params():\n",
        "    if param.name != 'b': # バイアス以外なら\n",
        "        param.update_rule.add_hook(WeightDecay(0.0001)) # 重み減衰を適用\n",
        "    "
      ],
      "execution_count": 0,
      "outputs": []
    },
    {
      "cell_type": "markdown",
      "metadata": {
        "id": "BQXJFnJ2pZC7",
        "colab_type": "text"
      },
      "source": [
        "# 15.4 step4: 最適化手法を選択する\n",
        "最適化手法もたくさんあるから今回はmomentumSGDを使おうとのこと。"
      ]
    },
    {
      "cell_type": "code",
      "metadata": {
        "id": "Ja_hTEgiqMCH",
        "colab_type": "code",
        "colab": {}
      },
      "source": [
        "from chainer import optimizers\n",
        "from chainer.optimizer_hooks import WeightDecay\n",
        "\n",
        "optimizer = optimizers.MomentumSGD(lr=0.001, momentum=0.9)\n",
        "optimizer.setup(net)\n",
        "\n",
        "for param in net.params():\n",
        "    if param.name != 'b':\n",
        "        param.update_rule.add_hook(WeightDecay(0.0001))"
      ],
      "execution_count": 0,
      "outputs": []
    },
    {
      "cell_type": "markdown",
      "metadata": {
        "id": "tXZ5pDmFxHmx",
        "colab_type": "text"
      },
      "source": [
        "# 15.5 step5: ネットワークを訓練する\n",
        "GPUを使って訓練するぞ！ corabolatoryだからできる。\n",
        "\n",
        "注意するのは下記2点\n",
        "・ネットワークを``to_gpu()``を使ってGPUメモリ上に転送しておく\n",
        "・ネットワーク上に入力するデータをCuPyのndarrayに変換しておく\n"
      ]
    },
    {
      "cell_type": "code",
      "metadata": {
        "id": "GkchR7TFyTbH",
        "colab_type": "code",
        "outputId": "180a254b-84d2-4733-e293-2c29e31b5007",
        "colab": {
          "base_uri": "https://localhost:8080/",
          "height": 887
        }
      },
      "source": [
        "gpu_id = 0\n",
        "n_batch = 64\n",
        "n_epoch = 50\n",
        "\n",
        "# ネットワークをGPUメモリ上に転送\n",
        "net.to_gpu(gpu_id)\n",
        "\n",
        "# ログ\n",
        "results_train, results_valid = {}, {}\n",
        "results_train['loss'], results_train['accuracy'] = [], []\n",
        "results_valid['loss'], results_valid['accuracy'] = [], []\n",
        "# results_train\n",
        "# --> {'accuracy': [], 'loss': []}\n",
        "\n",
        "train_iter.reset() # 前の章とかで一度next()が呼ばれているため\n",
        "\n",
        "count = 1\n",
        "\n",
        "for epoch in range(n_epoch):\n",
        "    \n",
        "    while True:\n",
        "        \n",
        "        # ミニバッチの取得\n",
        "        train_batch = train_iter.next()\n",
        "        \n",
        "        # xとtに分割\n",
        "        # データをGPUに転送するために、concat_examplesにgpu_idを渡す\n",
        "        x_train, t_train = chainer.dataset.concat_examples(train_batch, gpu_id)\n",
        "        \n",
        "        # 予測値と目的関数の計算\n",
        "        y_train = net(x_train)\n",
        "        loss_train = F.softmax_cross_entropy(y_train, t_train)\n",
        "        acc_train = F.accuracy(y_train, t_train)\n",
        "        \n",
        "        # 勾配の初期化と勾配の計算\n",
        "        net.cleargrads()\n",
        "        loss_train.backward()\n",
        "        \n",
        "        # パラメータの更新\n",
        "        optimizer.update()\n",
        "        \n",
        "        # カウントアップ\n",
        "        count += 1\n",
        "        \n",
        "        # 1エポック終えたら、validデータで評価する\n",
        "        if train_iter.is_new_epoch:\n",
        "            \n",
        "            # 検証用データに対する結果の確認\n",
        "            with chainer.using_config('train', False), chainer.using_config('enable_backprop', False):\n",
        "                \n",
        "                # ここ、validがない。split_dataset_random を使ってvalidを作らないとだめ。\n",
        "                x_valid, t_valid = chainer.dataset.concat_examples(valid, gpu_id)\n",
        "                y_valid = net(x_valid)\n",
        "                loss_valid = F.softmax_cross_entropy(y_valid, t_valid)\n",
        "                acc_valid = F.accuracy(y_valid, t_valid)\n",
        "                \n",
        "            # 注意：GPUで計算した結果はGPU上に存在するため、CUP上に転送します\n",
        "            loss_train.to_cpu()\n",
        "            loss_valid.to_cpu()\n",
        "            acc_train.to_cpu()\n",
        "            acc_valid.to_cpu()\n",
        "            \n",
        "            # 結果の表示\n",
        "            print('epoch: {}, iteration: {}, loss (train): {:.4f}, loss (valid): {:.4f}'\n",
        "                  'acc (train): {:.4f}, acc (valid): {:.4f}'.format(\n",
        "                epoch, count, loss_train.array.mean(), loss_valid.array.mean(),\n",
        "                  acc_train.array.mean(), acc_valid.array.mean()))\n",
        "\n",
        "            # 可視化用に保存\n",
        "            results_train['loss'] .append(loss_train.array)\n",
        "            results_train['accuracy'] .append(acc_train.array)\n",
        "            results_valid['loss'].append(loss_valid.array)\n",
        "            results_valid['accuracy'].append(acc_valid.array)\n",
        "\n",
        "            break"
      ],
      "execution_count": 0,
      "outputs": [
        {
          "output_type": "stream",
          "text": [
            "epoch: 0, iteration: 20, loss (train): 1.1293, loss (valid): 1.1982acc (train): 0.7500, acc (valid): 0.6562\n",
            "epoch: 1, iteration: 38, loss (train): 0.5148, loss (valid): 0.4088acc (train): 1.0000, acc (valid): 0.9688\n",
            "epoch: 2, iteration: 56, loss (train): 0.9593, loss (valid): 0.3514acc (train): 0.2500, acc (valid): 0.9062\n",
            "epoch: 3, iteration: 74, loss (train): 0.2632, loss (valid): 0.3085acc (train): 1.0000, acc (valid): 0.9688\n",
            "epoch: 4, iteration: 93, loss (train): 0.4693, loss (valid): 0.3274acc (train): 0.5000, acc (valid): 0.8438\n",
            "epoch: 5, iteration: 111, loss (train): 0.3065, loss (valid): 0.2545acc (train): 1.0000, acc (valid): 0.9688\n",
            "epoch: 6, iteration: 129, loss (train): 0.3735, loss (valid): 0.2429acc (train): 1.0000, acc (valid): 0.9688\n",
            "epoch: 7, iteration: 147, loss (train): 0.2200, loss (valid): 0.2374acc (train): 1.0000, acc (valid): 0.9375\n",
            "epoch: 8, iteration: 166, loss (train): 0.0609, loss (valid): 0.3217acc (train): 1.0000, acc (valid): 0.8438\n",
            "epoch: 9, iteration: 184, loss (train): 0.0954, loss (valid): 0.1965acc (train): 1.0000, acc (valid): 0.9688\n",
            "epoch: 10, iteration: 202, loss (train): 0.2299, loss (valid): 0.2404acc (train): 1.0000, acc (valid): 0.9062\n",
            "epoch: 11, iteration: 220, loss (train): 0.0528, loss (valid): 0.1834acc (train): 1.0000, acc (valid): 0.9688\n",
            "epoch: 12, iteration: 239, loss (train): 0.0560, loss (valid): 0.1696acc (train): 1.0000, acc (valid): 0.9688\n",
            "epoch: 13, iteration: 257, loss (train): 0.0445, loss (valid): 0.2002acc (train): 1.0000, acc (valid): 0.9375\n",
            "epoch: 14, iteration: 275, loss (train): 0.0750, loss (valid): 0.1704acc (train): 1.0000, acc (valid): 0.9688\n",
            "epoch: 15, iteration: 293, loss (train): 0.3124, loss (valid): 0.1611acc (train): 1.0000, acc (valid): 0.9688\n",
            "epoch: 16, iteration: 312, loss (train): 0.0845, loss (valid): 0.2512acc (train): 1.0000, acc (valid): 0.9062\n",
            "epoch: 17, iteration: 330, loss (train): 0.1758, loss (valid): 0.1334acc (train): 1.0000, acc (valid): 0.9688\n",
            "epoch: 18, iteration: 348, loss (train): 0.2599, loss (valid): 0.2217acc (train): 1.0000, acc (valid): 0.9062\n",
            "epoch: 19, iteration: 366, loss (train): 0.1405, loss (valid): 0.1262acc (train): 1.0000, acc (valid): 0.9688\n",
            "epoch: 20, iteration: 385, loss (train): 0.1054, loss (valid): 0.1794acc (train): 1.0000, acc (valid): 0.9375\n",
            "epoch: 21, iteration: 403, loss (train): 0.0235, loss (valid): 0.1197acc (train): 1.0000, acc (valid): 0.9688\n",
            "epoch: 22, iteration: 421, loss (train): 0.0269, loss (valid): 0.1200acc (train): 1.0000, acc (valid): 0.9688\n",
            "epoch: 23, iteration: 439, loss (train): 0.3938, loss (valid): 0.1188acc (train): 0.7500, acc (valid): 0.9688\n",
            "epoch: 24, iteration: 458, loss (train): 0.0408, loss (valid): 0.1802acc (train): 1.0000, acc (valid): 0.9375\n",
            "epoch: 25, iteration: 476, loss (train): 0.0689, loss (valid): 0.3305acc (train): 1.0000, acc (valid): 0.8438\n",
            "epoch: 26, iteration: 494, loss (train): 0.0621, loss (valid): 0.3632acc (train): 1.0000, acc (valid): 0.8438\n",
            "epoch: 27, iteration: 512, loss (train): 0.0050, loss (valid): 0.1818acc (train): 1.0000, acc (valid): 0.9375\n",
            "epoch: 28, iteration: 531, loss (train): 0.0471, loss (valid): 0.1635acc (train): 1.0000, acc (valid): 0.9688\n",
            "epoch: 29, iteration: 549, loss (train): 0.0205, loss (valid): 0.2332acc (train): 1.0000, acc (valid): 0.9062\n",
            "epoch: 30, iteration: 567, loss (train): 0.0103, loss (valid): 0.1063acc (train): 1.0000, acc (valid): 0.9688\n",
            "epoch: 31, iteration: 585, loss (train): 0.2045, loss (valid): 0.1520acc (train): 1.0000, acc (valid): 0.9062\n",
            "epoch: 32, iteration: 604, loss (train): 0.1404, loss (valid): 0.1095acc (train): 1.0000, acc (valid): 0.9688\n",
            "epoch: 33, iteration: 622, loss (train): 0.0287, loss (valid): 0.1145acc (train): 1.0000, acc (valid): 0.9688\n",
            "epoch: 34, iteration: 640, loss (train): 0.1590, loss (valid): 0.2445acc (train): 1.0000, acc (valid): 0.9062\n",
            "epoch: 35, iteration: 658, loss (train): 0.0407, loss (valid): 0.1331acc (train): 1.0000, acc (valid): 0.9688\n",
            "epoch: 36, iteration: 677, loss (train): 0.1729, loss (valid): 0.1087acc (train): 1.0000, acc (valid): 0.9688\n",
            "epoch: 37, iteration: 695, loss (train): 0.0188, loss (valid): 0.1056acc (train): 1.0000, acc (valid): 0.9688\n",
            "epoch: 38, iteration: 713, loss (train): 0.1609, loss (valid): 0.1006acc (train): 1.0000, acc (valid): 0.9688\n",
            "epoch: 39, iteration: 731, loss (train): 0.0165, loss (valid): 0.1263acc (train): 1.0000, acc (valid): 0.9688\n",
            "epoch: 40, iteration: 750, loss (train): 0.0168, loss (valid): 0.1619acc (train): 1.0000, acc (valid): 0.9688\n",
            "epoch: 41, iteration: 768, loss (train): 0.0321, loss (valid): 0.2043acc (train): 1.0000, acc (valid): 0.9375\n",
            "epoch: 42, iteration: 786, loss (train): 0.0537, loss (valid): 0.2088acc (train): 1.0000, acc (valid): 0.9375\n",
            "epoch: 43, iteration: 804, loss (train): 0.0133, loss (valid): 0.1869acc (train): 1.0000, acc (valid): 0.9375\n",
            "epoch: 44, iteration: 823, loss (train): 0.0462, loss (valid): 0.1340acc (train): 1.0000, acc (valid): 0.9688\n",
            "epoch: 45, iteration: 841, loss (train): 0.1518, loss (valid): 0.1234acc (train): 1.0000, acc (valid): 0.9688\n",
            "epoch: 46, iteration: 859, loss (train): 0.2402, loss (valid): 0.0996acc (train): 1.0000, acc (valid): 0.9688\n",
            "epoch: 47, iteration: 877, loss (train): 0.0106, loss (valid): 0.1126acc (train): 1.0000, acc (valid): 0.9688\n",
            "epoch: 48, iteration: 896, loss (train): 0.0144, loss (valid): 0.1528acc (train): 1.0000, acc (valid): 0.9062\n",
            "epoch: 49, iteration: 914, loss (train): 0.0168, loss (valid): 0.1924acc (train): 1.0000, acc (valid): 0.9375\n"
          ],
          "name": "stdout"
        }
      ]
    },
    {
      "cell_type": "code",
      "metadata": {
        "id": "af5NmZFDy8uJ",
        "colab_type": "code",
        "outputId": "e362dad3-2616-4b71-9968-08f5e811f862",
        "colab": {
          "base_uri": "https://localhost:8080/",
          "height": 521
        }
      },
      "source": [
        "import matplotlib.pyplot as plt\n",
        "\n",
        "# 損失 (loss)\n",
        "plt.plot(results_train['loss'], label='train')  # label で凡例の設定\n",
        "plt.plot(results_valid['loss'], label='valid')  # label で凡例の設定\n",
        "plt.legend()  # 凡例の表示\n",
        "plt.show()\n",
        "\n",
        "# 精度 (accuracy)\n",
        "plt.plot(results_train['accuracy'], label='train')  # label で凡例の設定\n",
        "plt.plot(results_valid['accuracy'], label='valid')  # label で凡例の設定\n",
        "plt.legend()  # 凡例の表示\n",
        "plt.show()"
      ],
      "execution_count": 0,
      "outputs": [
        {
          "output_type": "display_data",
          "data": {
            "image/png": "[encoded data removed]",
            "text/plain": [
              "<Figure size 432x288 with 1 Axes>"
            ]
          },
          "metadata": {
            "tags": []
          }
        },
        {
          "output_type": "display_data",
          "data": {
            "image/png": "[encoded data removed]",
            "text/plain": [
              "<Figure size 432x288 with 1 Axes>"
            ]
          },
          "metadata": {
            "tags": []
          }
        }
      ]
    },
    {
      "cell_type": "code",
      "metadata": {
        "id": "Alno3uJL_l33",
        "colab_type": "code",
        "outputId": "c4c45ee4-142f-4dfa-e0f7-4d151f11ac44",
        "colab": {
          "base_uri": "https://localhost:8080/",
          "height": 51
        }
      },
      "source": [
        "# テストデータに対する損失と精度を計算\n",
        "x_test, t_test = chainer.dataset.concat_examples(test, device=gpu_id)\n",
        "with chainer.using_config('train', False), chainer.using_config('enable_backprop', False):\n",
        "    y_test = net(x_test)\n",
        "    loss_test = F.softmax_cross_entropy(y_test, t_test)\n",
        "    acc_test = F.accuracy(y_test, t_test)\n",
        "\n",
        "print('test loss: {:.4f}'.format(loss_test.array.get()))\n",
        "print('test accuracy: {:.4f}'.format(acc_test.array.get()))"
      ],
      "execution_count": 0,
      "outputs": [
        {
          "output_type": "stream",
          "text": [
            "test loss: 0.1356\n",
            "test accuracy: 0.9333\n"
          ],
          "name": "stdout"
        }
      ]
    },
    {
      "cell_type": "code",
      "metadata": {
        "id": "lev5DPCv_po1",
        "colab_type": "code",
        "colab": {}
      },
      "source": [
        "from chainer.serializers import save_npz\n",
        "\n",
        "net.to_cpu()\n",
        "\n",
        "save_npz('net.npz', net)"
      ],
      "execution_count": 0,
      "outputs": []
    },
    {
      "cell_type": "code",
      "metadata": {
        "id": "DlnM3-qp__LY",
        "colab_type": "code",
        "outputId": "55b8ceb7-0615-44ec-821b-19a3ef360443",
        "colab": {
          "base_uri": "https://localhost:8080/",
          "height": 119
        }
      },
      "source": [
        "import numpy as np\n",
        "\n",
        "params = np.load('net.npz')\n",
        "\n",
        "for key, param in params.items():\n",
        "    print(key, ':\\t', param.shape)"
      ],
      "execution_count": 0,
      "outputs": [
        {
          "output_type": "stream",
          "text": [
            "l2/b :\t (100,)\n",
            "l2/W :\t (100, 100)\n",
            "l3/b :\t (3,)\n",
            "l3/W :\t (3, 100)\n",
            "l1/b :\t (100,)\n",
            "l1/W :\t (100, 4)\n"
          ],
          "name": "stdout"
        }
      ]
    },
    {
      "cell_type": "markdown",
      "metadata": {
        "id": "6A6gwaQ9AAwT",
        "colab_type": "text"
      },
      "source": [
        "ここ最初は隠れ層のノードを3つにしてて、ぜんっぜん学習できてなかった。やっぱ隠れ層いじるとうまくいくんだな。"
      ]
    }
  ]
}