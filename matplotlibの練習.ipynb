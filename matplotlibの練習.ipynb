{
  "nbformat": 4,
  "nbformat_minor": 0,
  "metadata": {
    "colab": {
      "name": "matplotlibの練習.ipynb",
      "provenance": [],
      "include_colab_link": true
    },
    "kernelspec": {
      "name": "python3",
      "display_name": "Python 3"
    }
  },
  "cells": [
    {
      "cell_type": "markdown",
      "metadata": {
        "id": "view-in-github",
        "colab_type": "text"
      },
      "source": [
        "<a href=\"https://colab.research.google.com/github/MoritaHiroki87/ZZ_MachineLearningNote/blob/master/matplotlib%E3%81%AE%E7%B7%B4%E7%BF%92.ipynb\" target=\"_parent\"><img src=\"https://colab.research.google.com/assets/colab-badge.svg\" alt=\"Open In Colab\"/></a>"
      ]
    },
    {
      "cell_type": "markdown",
      "metadata": {
        "id": "scrr7jh695kE",
        "colab_type": "text"
      },
      "source": [
        "## 前準備"
      ]
    },
    {
      "cell_type": "code",
      "metadata": {
        "id": "CHalpD3e3H_x",
        "colab_type": "code",
        "colab": {}
      },
      "source": [
        "f = open('calcResult.csv')"
      ],
      "execution_count": 0,
      "outputs": []
    },
    {
      "cell_type": "code",
      "metadata": {
        "id": "QU0X3u415zPF",
        "colab_type": "code",
        "colab": {}
      },
      "source": [
        "term = []\n",
        "interest = []\n",
        "principal = []\n",
        "ip_sum = []"
      ],
      "execution_count": 0,
      "outputs": []
    },
    {
      "cell_type": "code",
      "metadata": {
        "id": "kEwwqozV514U",
        "colab_type": "code",
        "colab": {}
      },
      "source": [
        "for i, row in enumerate(f):\n",
        "    if i == 0:\n",
        "        continue\n",
        "    matome = row.split(',')\n",
        "    term.append(int(matome[0]))\n",
        "    interest.append(int(matome[3]))\n",
        "    principal.append(int(matome[4]))\n",
        "    ip_sum.append(int(matome[3]) + int(matome[4]))"
      ],
      "execution_count": 0,
      "outputs": []
    },
    {
      "cell_type": "code",
      "metadata": {
        "id": "jKcpwYPK6mBU",
        "colab_type": "code",
        "colab": {
          "base_uri": "https://localhost:8080/",
          "height": 54
        },
        "outputId": "18cb0f65-ff5d-4eb4-d4e7-21adeae623a1"
      },
      "source": [
        "print(interest)"
      ],
      "execution_count": 50,
      "outputs": [
        {
          "output_type": "stream",
          "text": [
            "[0, 45000, 44923, 44845, 44768, 44691, 44613, 44536, 44458, 44380, 44302, 44224, 44146, 44068, 43990, 43911, 43832, 43754, 43675, 43596, 43517, 43438, 43358, 43279, 43199, 43119, 43040, 42960, 42880, 42800, 42719, 42639, 42558, 42478, 42397, 42316, 42235, 42154, 42073, 41991, 41910, 41828, 41746, 41664, 41582, 41500, 41418, 41336, 41253, 41171, 41088, 41005, 40922, 40839, 40756, 40672, 40589, 40505, 40422, 40338, 40254, 40170, 40085, 40001, 39916, 39832, 39747, 39662, 39577, 39492, 39407, 39321, 39236, 39150, 39065, 38979, 38893, 38807, 38720, 38634, 38547, 38461, 38374, 38287, 38200, 38113, 38025, 37938, 37850, 37763, 37675, 37587, 37499, 37410, 37322, 37234, 37145, 37056, 36967, 36878, 36789, 36700, 36610, 36521, 36431, 36341, 36251, 36161, 36071, 35980, 35890, 35799, 35708, 35617, 35526, 35435, 35344, 35252, 35161, 35069, 34977, 38761, 38662, 38562, 38462, 38362, 38261, 38161, 38060, 37959, 37858, 37757, 37656, 37554, 37452, 37350, 37248, 37146, 37044, 36941, 36838, 36736, 36633, 36529, 36426, 36322, 36219, 36115, 36011, 35906, 35802, 35697, 35592, 35487, 35382, 35277, 35171, 35066, 34960, 34854, 34748, 34641, 34535, 34428, 34321, 34214, 34107, 33999, 33892, 33784, 33676, 33568, 33459, 33351, 33242, 33133, 33024, 32915, 32805, 32696, 32586, 32476, 32366, 32256, 32145, 32034, 31923, 31812, 31701, 31590, 31478, 31366, 31254, 31142, 31029, 30917, 30804, 30691, 30578, 30465, 30351, 30237, 30124, 30009, 29895, 29781, 29666, 29551, 29436, 29321, 29206, 29090, 28974, 28858, 28742, 28626, 28509, 28392, 28275, 28158, 28041, 27923, 27805, 27687, 27569, 27451, 27332, 27214, 27095, 26976, 26856, 26737, 26617, 26497, 26377, 26257, 26136, 26015, 25894, 25773, 25652, 25530, 25409, 25287, 25164, 25042, 24920, 24797, 24674, 24551, 24427, 24304, 24180, 24056, 23932, 23807, 23683, 23558, 23433, 23308, 23182, 23057, 22931, 22805, 22678, 22552, 22425, 22298, 22171, 22044, 21916, 21788, 21660, 21532, 21404, 21275, 21146, 21017, 20888, 20759, 20629, 20499, 20369, 20238, 20108, 19977, 19846, 19715, 19583, 19452, 19320, 19188, 19056, 18923, 18790, 18657, 18524, 18391, 18257, 18123, 17989, 17855, 17720, 17585, 17450, 17315, 17180, 17044, 16908, 16772, 16636, 16499, 16362, 16225, 16088, 15951, 15813, 15675, 15537, 15399, 15260, 15121, 14982, 14843, 14703, 14563, 14423, 14283, 14142, 14002, 13861, 13720, 13578, 13437, 13295, 13153, 13010, 12868, 12725, 12582, 12438, 12295, 12151, 12007, 11863, 11718, 11573, 11428, 11283, 11138, 10992, 10846, 10700, 10553, 10406, 10260, 10112, 9965, 9817, 9669, 9521, 9373, 9224, 9075, 8926, 8776, 8627, 8477, 8327, 8176, 8026, 7875, 7724, 7572, 7420, 7269, 7116, 6964, 6811, 6658, 6505, 6352, 6198, 6044, 5890, 5735, 5581, 5426, 5270, 5115, 4959, 4803, 4647, 4490, 4333, 4176, 4019, 3861, 3704, 3545, 3387, 3228, 3069, 2910, 2751, 2591, 2431, 2271, 2110, 1950, 1789, 1627, 1466, 1304, 1142, 979, 817, 654, 491, 327, 163]\n"
          ],
          "name": "stdout"
        }
      ]
    },
    {
      "cell_type": "code",
      "metadata": {
        "id": "c00IG1GG6o3i",
        "colab_type": "code",
        "colab": {
          "base_uri": "https://localhost:8080/",
          "height": 54
        },
        "outputId": "c175737a-5f98-4088-e715-8486d46a897a"
      },
      "source": [
        "print(ip_sum)"
      ],
      "execution_count": 45,
      "outputs": [
        {
          "output_type": "stream",
          "text": [
            "[0, 96327, 96327, 96327, 96327, 96327, 96327, 96327, 96327, 96327, 96327, 96327, 96327, 96327, 96327, 96327, 96327, 96327, 96327, 96327, 96327, 96327, 96327, 96327, 96327, 96327, 96327, 96327, 96327, 96327, 96327, 96327, 96327, 96327, 96327, 96327, 96327, 96327, 96327, 96327, 96327, 96327, 96327, 96327, 96327, 96327, 96327, 96327, 96327, 96327, 96327, 96327, 96327, 96327, 96327, 96327, 96327, 96327, 96327, 96327, 96327, 96327, 96327, 96327, 96327, 96327, 96327, 96327, 96327, 96327, 96327, 96327, 96327, 96327, 96327, 96327, 96327, 96327, 96327, 96327, 96327, 96327, 96327, 96327, 96327, 96327, 96327, 96327, 96327, 96327, 96327, 96327, 96327, 96327, 96327, 96327, 96327, 96327, 96327, 96327, 96327, 96327, 96327, 96327, 96327, 96327, 96327, 96327, 96327, 96327, 96327, 96327, 96327, 96327, 96327, 96327, 96327, 96327, 96327, 96327, 96327, 98576, 98576, 98576, 98576, 98576, 98576, 98576, 98576, 98576, 98576, 98576, 98576, 98576, 98576, 98576, 98576, 98576, 98576, 98576, 98576, 98576, 98576, 98576, 98576, 98576, 98576, 98576, 98576, 98576, 98576, 98576, 98576, 98576, 98576, 98576, 98576, 98576, 98576, 98576, 98576, 98576, 98576, 98576, 98576, 98576, 98576, 98576, 98576, 98576, 98576, 98576, 98576, 98576, 98576, 98576, 98576, 98576, 98576, 98576, 98576, 98576, 98576, 98576, 98576, 98576, 98576, 98576, 98576, 98576, 98576, 98576, 98576, 98576, 98576, 98576, 98576, 98576, 98576, 98576, 98576, 98576, 98576, 98576, 98576, 98576, 98576, 98576, 98576, 98576, 98576, 98576, 98576, 98576, 98576, 98576, 98576, 98576, 98576, 98576, 98576, 98576, 98576, 98576, 98576, 98576, 98576, 98576, 98576, 98576, 98576, 98576, 98576, 98576, 98576, 98576, 98576, 98576, 98576, 98576, 98576, 98576, 98576, 98576, 98576, 98576, 98576, 98576, 98576, 98576, 98576, 98576, 98576, 98576, 98576, 98576, 98576, 98576, 98576, 98576, 98576, 98576, 98576, 98576, 98576, 98576, 98576, 98576, 98576, 98576, 98576, 98576, 98576, 98576, 98576, 98576, 98576, 98576, 98576, 98576, 98576, 98576, 98576, 98576, 98576, 98576, 98576, 98576, 98576, 98576, 98576, 98576, 98576, 98576, 98576, 98576, 98576, 98576, 98576, 98576, 98576, 98576, 98576, 98576, 98576, 98576, 98576, 98576, 98576, 98576, 98576, 98576, 98576, 98576, 98576, 98576, 98576, 98576, 98576, 98576, 98576, 98576, 98576, 98576, 98576, 98576, 98576, 98576, 98576, 98576, 98576, 98576, 98576, 98576, 98576, 98576, 98576, 98576, 98576, 98576, 98576, 98576, 98576, 98576, 98576, 98576, 98576, 98576, 98576, 98576, 98576, 98576, 98576, 98576, 98576, 98576, 98576, 98576, 98576, 98576, 98576, 98576, 98576, 98576, 98576, 98576, 98576, 98576, 98576, 98576, 98576, 98576, 98576, 98576, 98576, 98576, 98576, 98576, 98576, 98576, 98576, 98576, 98576, 98576, 98576, 98576, 98576, 98576, 98576, 98576, 98576, 98576, 98576, 98576, 98576, 98576, 98576, 98576, 98576, 98576, 98576, 98576, 98576, 98576, 98576, 98576, 98576, 98576, 98576, 98576, 98576, 98576, 98576, 98576, 98576, 98576, 98576, 98576, 98576, 98576, 98439]\n"
          ],
          "name": "stdout"
        }
      ]
    },
    {
      "cell_type": "markdown",
      "metadata": {
        "id": "YmQx4vI29-qB",
        "colab_type": "text"
      },
      "source": [
        "## グラフの描画"
      ]
    },
    {
      "cell_type": "code",
      "metadata": {
        "id": "nd0K-l70BELT",
        "colab_type": "code",
        "colab": {}
      },
      "source": [
        "import matplotlib.pyplot as plt\n",
        "import numpy as np"
      ],
      "execution_count": 0,
      "outputs": []
    },
    {
      "cell_type": "code",
      "metadata": {
        "id": "3YamMYenDKx2",
        "colab_type": "code",
        "colab": {}
      },
      "source": [
        "# ちょっと綺麗に定義し直す\n",
        "left = np.array(term)\n",
        "height1 = np.array(principal)\n",
        "height2 = np.array(interest)"
      ],
      "execution_count": 0,
      "outputs": []
    },
    {
      "cell_type": "code",
      "metadata": {
        "id": "kB726SpcDlcW",
        "colab_type": "code",
        "colab": {
          "base_uri": "https://localhost:8080/",
          "height": 269
        },
        "outputId": "adfbf8b4-fd99-4a14-c26a-06d70e0ebc7e"
      },
      "source": [
        "plt.bar(left, height1, color=\"orange\")\n",
        "plt.bar(left, height2, bottom=height1, color=\"lightblue\")\n",
        "plt.savefig('bar_basic.png')"
      ],
      "execution_count": 63,
      "outputs": [
        {
          "output_type": "display_data",
          "data": {
            "image/png": "[encoded data removed]",
            "text/plain": [
              "<Figure size 432x288 with 1 Axes>"
            ]
          },
          "metadata": {
            "tags": []
          }
        }
      ]
    },
    {
      "cell_type": "code",
      "metadata": {
        "id": "G9rGltdl-Bxv",
        "colab_type": "code",
        "colab": {
          "base_uri": "https://localhost:8080/",
          "height": 269
        },
        "outputId": "23756d5e-2078-4435-ecdb-bf38ff594a1a"
      },
      "source": [
        "plt.bar(x=len(term), height=ip_sum, width=0.8)\n",
        "plt.bar(x=len(term), height=interest, width=0.8, tick_label=[i for i in range(len(term))])\n"
      ],
      "execution_count": 52,
      "outputs": [
        {
          "output_type": "display_data",
          "data": {
            "image/png": "[encoded data removed]",
            "text/plain": [
              "<Figure size 432x288 with 1 Axes>"
            ]
          },
          "metadata": {
            "tags": []
          }
        }
      ]
    },
    {
      "cell_type": "code",
      "metadata": {
        "id": "qgv7H9DwBB_A",
        "colab_type": "code",
        "colab": {}
      },
      "source": [
        "# これうまくいってないのは、多分リストのどこまで表示させてるかわからんからだよなー"
      ],
      "execution_count": 0,
      "outputs": []
    },
    {
      "cell_type": "code",
      "metadata": {
        "id": "YyaD4JbOCVVS",
        "colab_type": "code",
        "colab": {}
      },
      "source": [
        ""
      ],
      "execution_count": 0,
      "outputs": []
    }
  ]
}