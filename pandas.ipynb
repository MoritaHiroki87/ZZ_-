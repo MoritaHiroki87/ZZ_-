{
  "nbformat": 4,
  "nbformat_minor": 0,
  "metadata": {
    "colab": {
      "name": "pandas.ipynb",
      "version": "0.3.2",
      "provenance": [],
      "collapsed_sections": [
        "gu1zGUzGAJnh",
        "V8VcxzMJplx7",
        "nQmiRNkzss84",
        "Zjc2Izc6wqBR",
        "JvLyskBCpFR_"
      ],
      "include_colab_link": true
    },
    "kernelspec": {
      "name": "python3",
      "display_name": "Python 3"
    }
  },
  "cells": [
    {
      "cell_type": "markdown",
      "metadata": {
        "id": "view-in-github",
        "colab_type": "text"
      },
      "source": [
        "<a href=\"https://colab.research.google.com/github/MoritaHiroki87/ZZ_MachineLearningNote/blob/master/pandas.ipynb\" target=\"_parent\"><img src=\"https://colab.research.google.com/assets/colab-badge.svg\" alt=\"Open In Colab\"/></a>"
      ]
    },
    {
      "cell_type": "code",
      "metadata": {
        "id": "E2qKrxEemBdu",
        "colab_type": "code",
        "colab": {}
      },
      "source": [
        "import pandas as pd\n",
        "df = pd.read_csv('sample_data/california_housing_train.csv')"
      ],
      "execution_count": 0,
      "outputs": []
    },
    {
      "cell_type": "markdown",
      "metadata": {
        "id": "6XDSu28vmU8Z",
        "colab_type": "text"
      },
      "source": [
        "# 便利なもの一覧\n",
        "pandasでぜひ覚えておきたいものたち。\n",
        " - データフレームの形を表示\n",
        " - 特定の列の取得（簡単）\n",
        " - 統計量、相関の算出\n",
        " - データの選択\n",
        " - 条件指定による要素の選択\n",
        " - 欠損値の補完と除去\n",
        " - np.ndarrayとdf.DataFrameの相互変換\n",
        "\n",
        "```\n",
        "```"
      ]
    },
    {
      "cell_type": "code",
      "metadata": {
        "id": "1Nno6DgeoiS6",
        "colab_type": "code",
        "outputId": "59de35be-37cd-4053-e7ba-d00447adb0ba",
        "colab": {
          "base_uri": "https://localhost:8080/",
          "height": 34
        }
      },
      "source": [
        " # 形\n",
        "df.shape"
      ],
      "execution_count": 0,
      "outputs": [
        {
          "output_type": "execute_result",
          "data": {
            "text/plain": [
              "(17000, 9)"
            ]
          },
          "metadata": {
            "tags": []
          },
          "execution_count": 161
        }
      ]
    },
    {
      "cell_type": "code",
      "metadata": {
        "id": "BxLu7V-sopB1",
        "colab_type": "code",
        "outputId": "0f1bf43f-87da-47be-9119-22bb008aeb9d",
        "colab": {
          "base_uri": "https://localhost:8080/",
          "height": 85
        }
      },
      "source": [
        "# df['col_name'] # 指定の列\n",
        "df['longitude'].head(3)"
      ],
      "execution_count": 0,
      "outputs": [
        {
          "output_type": "execute_result",
          "data": {
            "text/plain": [
              "0   -114.31\n",
              "1   -114.47\n",
              "2   -114.56\n",
              "Name: longitude, dtype: float64"
            ]
          },
          "metadata": {
            "tags": []
          },
          "execution_count": 162
        }
      ]
    },
    {
      "cell_type": "code",
      "metadata": {
        "id": "v13H1t-UopLU",
        "colab_type": "code",
        "outputId": "890b23d7-a3ee-45ec-fbbd-bbc20270c9a0",
        "colab": {
          "base_uri": "https://localhost:8080/",
          "height": 388
        }
      },
      "source": [
        "df.describe() # 平均などのデータをざっくり見る\n",
        "df.corr() # 相関を見る"
      ],
      "execution_count": 0,
      "outputs": [
        {
          "output_type": "execute_result",
          "data": {
            "text/html": [
              "<div>\n",
              "<style scoped>\n",
              "    .dataframe tbody tr th:only-of-type {\n",
              "        vertical-align: middle;\n",
              "    }\n",
              "\n",
              "    .dataframe tbody tr th {\n",
              "        vertical-align: top;\n",
              "    }\n",
              "\n",
              "    .dataframe thead th {\n",
              "        text-align: right;\n",
              "    }\n",
              "</style>\n",
              "<table border=\"1\" class=\"dataframe\">\n",
              "  <thead>\n",
              "    <tr style=\"text-align: right;\">\n",
              "      <th></th>\n",
              "      <th>longitude</th>\n",
              "      <th>latitude</th>\n",
              "      <th>housing_median_age</th>\n",
              "      <th>total_rooms</th>\n",
              "      <th>total_bedrooms</th>\n",
              "      <th>population</th>\n",
              "      <th>households</th>\n",
              "      <th>median_income</th>\n",
              "      <th>median_house_value</th>\n",
              "    </tr>\n",
              "  </thead>\n",
              "  <tbody>\n",
              "    <tr>\n",
              "      <th>longitude</th>\n",
              "      <td>1.000000</td>\n",
              "      <td>-0.925208</td>\n",
              "      <td>-0.114250</td>\n",
              "      <td>0.047010</td>\n",
              "      <td>0.071802</td>\n",
              "      <td>0.101674</td>\n",
              "      <td>0.059628</td>\n",
              "      <td>-0.015485</td>\n",
              "      <td>-0.044982</td>\n",
              "    </tr>\n",
              "    <tr>\n",
              "      <th>latitude</th>\n",
              "      <td>-0.925208</td>\n",
              "      <td>1.000000</td>\n",
              "      <td>0.016454</td>\n",
              "      <td>-0.038773</td>\n",
              "      <td>-0.069373</td>\n",
              "      <td>-0.111261</td>\n",
              "      <td>-0.074902</td>\n",
              "      <td>-0.080303</td>\n",
              "      <td>-0.144917</td>\n",
              "    </tr>\n",
              "    <tr>\n",
              "      <th>housing_median_age</th>\n",
              "      <td>-0.114250</td>\n",
              "      <td>0.016454</td>\n",
              "      <td>1.000000</td>\n",
              "      <td>-0.360984</td>\n",
              "      <td>-0.320434</td>\n",
              "      <td>-0.295890</td>\n",
              "      <td>-0.302754</td>\n",
              "      <td>-0.115932</td>\n",
              "      <td>0.106758</td>\n",
              "    </tr>\n",
              "    <tr>\n",
              "      <th>total_rooms</th>\n",
              "      <td>0.047010</td>\n",
              "      <td>-0.038773</td>\n",
              "      <td>-0.360984</td>\n",
              "      <td>1.000000</td>\n",
              "      <td>0.928403</td>\n",
              "      <td>0.860170</td>\n",
              "      <td>0.919018</td>\n",
              "      <td>0.195383</td>\n",
              "      <td>0.130991</td>\n",
              "    </tr>\n",
              "    <tr>\n",
              "      <th>total_bedrooms</th>\n",
              "      <td>0.071802</td>\n",
              "      <td>-0.069373</td>\n",
              "      <td>-0.320434</td>\n",
              "      <td>0.928403</td>\n",
              "      <td>1.000000</td>\n",
              "      <td>0.881169</td>\n",
              "      <td>0.980920</td>\n",
              "      <td>-0.013495</td>\n",
              "      <td>0.045783</td>\n",
              "    </tr>\n",
              "    <tr>\n",
              "      <th>population</th>\n",
              "      <td>0.101674</td>\n",
              "      <td>-0.111261</td>\n",
              "      <td>-0.295890</td>\n",
              "      <td>0.860170</td>\n",
              "      <td>0.881169</td>\n",
              "      <td>1.000000</td>\n",
              "      <td>0.909247</td>\n",
              "      <td>-0.000638</td>\n",
              "      <td>-0.027850</td>\n",
              "    </tr>\n",
              "    <tr>\n",
              "      <th>households</th>\n",
              "      <td>0.059628</td>\n",
              "      <td>-0.074902</td>\n",
              "      <td>-0.302754</td>\n",
              "      <td>0.919018</td>\n",
              "      <td>0.980920</td>\n",
              "      <td>0.909247</td>\n",
              "      <td>1.000000</td>\n",
              "      <td>0.007644</td>\n",
              "      <td>0.061031</td>\n",
              "    </tr>\n",
              "    <tr>\n",
              "      <th>median_income</th>\n",
              "      <td>-0.015485</td>\n",
              "      <td>-0.080303</td>\n",
              "      <td>-0.115932</td>\n",
              "      <td>0.195383</td>\n",
              "      <td>-0.013495</td>\n",
              "      <td>-0.000638</td>\n",
              "      <td>0.007644</td>\n",
              "      <td>1.000000</td>\n",
              "      <td>0.691871</td>\n",
              "    </tr>\n",
              "    <tr>\n",
              "      <th>median_house_value</th>\n",
              "      <td>-0.044982</td>\n",
              "      <td>-0.144917</td>\n",
              "      <td>0.106758</td>\n",
              "      <td>0.130991</td>\n",
              "      <td>0.045783</td>\n",
              "      <td>-0.027850</td>\n",
              "      <td>0.061031</td>\n",
              "      <td>0.691871</td>\n",
              "      <td>1.000000</td>\n",
              "    </tr>\n",
              "  </tbody>\n",
              "</table>\n",
              "</div>"
            ],
            "text/plain": [
              "                    longitude  latitude  ...  median_income  median_house_value\n",
              "longitude            1.000000 -0.925208  ...      -0.015485           -0.044982\n",
              "latitude            -0.925208  1.000000  ...      -0.080303           -0.144917\n",
              "housing_median_age  -0.114250  0.016454  ...      -0.115932            0.106758\n",
              "total_rooms          0.047010 -0.038773  ...       0.195383            0.130991\n",
              "total_bedrooms       0.071802 -0.069373  ...      -0.013495            0.045783\n",
              "population           0.101674 -0.111261  ...      -0.000638           -0.027850\n",
              "households           0.059628 -0.074902  ...       0.007644            0.061031\n",
              "median_income       -0.015485 -0.080303  ...       1.000000            0.691871\n",
              "median_house_value  -0.044982 -0.144917  ...       0.691871            1.000000\n",
              "\n",
              "[9 rows x 9 columns]"
            ]
          },
          "metadata": {
            "tags": []
          },
          "execution_count": 163
        }
      ]
    },
    {
      "cell_type": "code",
      "metadata": {
        "id": "8FaqGQIKoxA8",
        "colab_type": "code",
        "outputId": "e7da7000-e2f3-4bd9-ba96-60699316cf94",
        "colab": {
          "base_uri": "https://localhost:8080/",
          "height": 85
        }
      },
      "source": [
        "# データの選択\n",
        "t = df.iloc[:, -1]\n",
        "print('t.shape(): ', t.head(3), 't.shape: ', t.shape)"
      ],
      "execution_count": 0,
      "outputs": [
        {
          "output_type": "stream",
          "text": [
            "t.shape():  0    66900.0\n",
            "1    80100.0\n",
            "2    85700.0\n",
            "Name: median_house_value, dtype: float64 t.shape:  (17000,)\n"
          ],
          "name": "stdout"
        }
      ]
    },
    {
      "cell_type": "code",
      "metadata": {
        "id": "NsM5qAg2txz8",
        "colab_type": "code",
        "outputId": "b8048052-45e3-426f-b2c0-16a8e5a4b9e9",
        "colab": {
          "base_uri": "https://localhost:8080/",
          "height": 284
        }
      },
      "source": [
        "# 条件指定による要素の選択\n",
        "# maskを作って条件とし、特定の列の要素を選択する（そして補完するなど）\n",
        "\n",
        "# 新しい列 target を None で初期化\n",
        "df['target'] = None\n",
        "\n",
        "mask1 = df['median_house_value'] < 60000\n",
        "mask2 = (df['median_house_value'] >= 60000) & (df['median_house_value'] < 70000)\n",
        "mask3 = (df['median_house_value'] >= 70000) & (df['median_house_value'] < 80000)\n",
        "mask4 = df['median_house_value'] >= 80000\n",
        "\n",
        "df.loc[mask1, 'target'] = 0\n",
        "df.loc[mask2, 'target'] = 1\n",
        "df.loc[mask3, 'target'] = 2\n",
        "df.loc[mask4, 'target'] = 3\n",
        "\n",
        "df.head()"
      ],
      "execution_count": 0,
      "outputs": [
        {
          "output_type": "execute_result",
          "data": {
            "text/html": [
              "<div>\n",
              "<style scoped>\n",
              "    .dataframe tbody tr th:only-of-type {\n",
              "        vertical-align: middle;\n",
              "    }\n",
              "\n",
              "    .dataframe tbody tr th {\n",
              "        vertical-align: top;\n",
              "    }\n",
              "\n",
              "    .dataframe thead th {\n",
              "        text-align: right;\n",
              "    }\n",
              "</style>\n",
              "<table border=\"1\" class=\"dataframe\">\n",
              "  <thead>\n",
              "    <tr style=\"text-align: right;\">\n",
              "      <th></th>\n",
              "      <th>longitude</th>\n",
              "      <th>latitude</th>\n",
              "      <th>housing_median_age</th>\n",
              "      <th>total_rooms</th>\n",
              "      <th>total_bedrooms</th>\n",
              "      <th>population</th>\n",
              "      <th>households</th>\n",
              "      <th>median_income</th>\n",
              "      <th>median_house_value</th>\n",
              "      <th>target</th>\n",
              "    </tr>\n",
              "  </thead>\n",
              "  <tbody>\n",
              "    <tr>\n",
              "      <th>0</th>\n",
              "      <td>-114.31</td>\n",
              "      <td>34.19</td>\n",
              "      <td>15.0</td>\n",
              "      <td>5612.0</td>\n",
              "      <td>1283.0</td>\n",
              "      <td>1015.0</td>\n",
              "      <td>472.0</td>\n",
              "      <td>1.4936</td>\n",
              "      <td>66900.0</td>\n",
              "      <td>1</td>\n",
              "    </tr>\n",
              "    <tr>\n",
              "      <th>1</th>\n",
              "      <td>-114.47</td>\n",
              "      <td>34.40</td>\n",
              "      <td>19.0</td>\n",
              "      <td>7650.0</td>\n",
              "      <td>1901.0</td>\n",
              "      <td>1129.0</td>\n",
              "      <td>463.0</td>\n",
              "      <td>1.8200</td>\n",
              "      <td>80100.0</td>\n",
              "      <td>3</td>\n",
              "    </tr>\n",
              "    <tr>\n",
              "      <th>2</th>\n",
              "      <td>-114.56</td>\n",
              "      <td>33.69</td>\n",
              "      <td>17.0</td>\n",
              "      <td>720.0</td>\n",
              "      <td>174.0</td>\n",
              "      <td>333.0</td>\n",
              "      <td>117.0</td>\n",
              "      <td>1.6509</td>\n",
              "      <td>85700.0</td>\n",
              "      <td>3</td>\n",
              "    </tr>\n",
              "    <tr>\n",
              "      <th>3</th>\n",
              "      <td>-114.57</td>\n",
              "      <td>33.64</td>\n",
              "      <td>14.0</td>\n",
              "      <td>1501.0</td>\n",
              "      <td>337.0</td>\n",
              "      <td>515.0</td>\n",
              "      <td>226.0</td>\n",
              "      <td>3.1917</td>\n",
              "      <td>73400.0</td>\n",
              "      <td>2</td>\n",
              "    </tr>\n",
              "    <tr>\n",
              "      <th>4</th>\n",
              "      <td>-114.57</td>\n",
              "      <td>33.57</td>\n",
              "      <td>20.0</td>\n",
              "      <td>1454.0</td>\n",
              "      <td>326.0</td>\n",
              "      <td>624.0</td>\n",
              "      <td>262.0</td>\n",
              "      <td>1.9250</td>\n",
              "      <td>65500.0</td>\n",
              "      <td>1</td>\n",
              "    </tr>\n",
              "  </tbody>\n",
              "</table>\n",
              "</div>"
            ],
            "text/plain": [
              "   longitude  latitude  ...  median_house_value  target\n",
              "0    -114.31     34.19  ...             66900.0       1\n",
              "1    -114.47     34.40  ...             80100.0       3\n",
              "2    -114.56     33.69  ...             85700.0       3\n",
              "3    -114.57     33.64  ...             73400.0       2\n",
              "4    -114.57     33.57  ...             65500.0       1\n",
              "\n",
              "[5 rows x 10 columns]"
            ]
          },
          "metadata": {
            "tags": []
          },
          "execution_count": 165
        }
      ]
    },
    {
      "cell_type": "code",
      "metadata": {
        "id": "icl8v5CVtx2Y",
        "colab_type": "code",
        "outputId": "892f929f-9524-4729-b731-48b5c61af085",
        "colab": {
          "base_uri": "https://localhost:8080/",
          "height": 202
        }
      },
      "source": [
        "# 欠損値の補完と除去\n",
        "# 全ての欠損値を除去\n",
        "df_dropna = df.dropna()\n",
        "\n",
        "# 全ての欠損値を補完\n",
        "mean = df.mean()\n",
        "df_fillna = df.fillna(mean)\n",
        "df_fillna.head(3)"
      ],
      "execution_count": 0,
      "outputs": [
        {
          "output_type": "execute_result",
          "data": {
            "text/html": [
              "<div>\n",
              "<style scoped>\n",
              "    .dataframe tbody tr th:only-of-type {\n",
              "        vertical-align: middle;\n",
              "    }\n",
              "\n",
              "    .dataframe tbody tr th {\n",
              "        vertical-align: top;\n",
              "    }\n",
              "\n",
              "    .dataframe thead th {\n",
              "        text-align: right;\n",
              "    }\n",
              "</style>\n",
              "<table border=\"1\" class=\"dataframe\">\n",
              "  <thead>\n",
              "    <tr style=\"text-align: right;\">\n",
              "      <th></th>\n",
              "      <th>longitude</th>\n",
              "      <th>latitude</th>\n",
              "      <th>housing_median_age</th>\n",
              "      <th>total_rooms</th>\n",
              "      <th>total_bedrooms</th>\n",
              "      <th>population</th>\n",
              "      <th>households</th>\n",
              "      <th>median_income</th>\n",
              "      <th>median_house_value</th>\n",
              "      <th>target</th>\n",
              "    </tr>\n",
              "  </thead>\n",
              "  <tbody>\n",
              "    <tr>\n",
              "      <th>0</th>\n",
              "      <td>-114.31</td>\n",
              "      <td>34.19</td>\n",
              "      <td>15.0</td>\n",
              "      <td>5612.0</td>\n",
              "      <td>1283.0</td>\n",
              "      <td>1015.0</td>\n",
              "      <td>472.0</td>\n",
              "      <td>1.4936</td>\n",
              "      <td>66900.0</td>\n",
              "      <td>1</td>\n",
              "    </tr>\n",
              "    <tr>\n",
              "      <th>1</th>\n",
              "      <td>-114.47</td>\n",
              "      <td>34.40</td>\n",
              "      <td>19.0</td>\n",
              "      <td>7650.0</td>\n",
              "      <td>1901.0</td>\n",
              "      <td>1129.0</td>\n",
              "      <td>463.0</td>\n",
              "      <td>1.8200</td>\n",
              "      <td>80100.0</td>\n",
              "      <td>3</td>\n",
              "    </tr>\n",
              "    <tr>\n",
              "      <th>2</th>\n",
              "      <td>-114.56</td>\n",
              "      <td>33.69</td>\n",
              "      <td>17.0</td>\n",
              "      <td>720.0</td>\n",
              "      <td>174.0</td>\n",
              "      <td>333.0</td>\n",
              "      <td>117.0</td>\n",
              "      <td>1.6509</td>\n",
              "      <td>85700.0</td>\n",
              "      <td>3</td>\n",
              "    </tr>\n",
              "  </tbody>\n",
              "</table>\n",
              "</div>"
            ],
            "text/plain": [
              "   longitude  latitude  ...  median_house_value  target\n",
              "0    -114.31     34.19  ...             66900.0       1\n",
              "1    -114.47     34.40  ...             80100.0       3\n",
              "2    -114.56     33.69  ...             85700.0       3\n",
              "\n",
              "[3 rows x 10 columns]"
            ]
          },
          "metadata": {
            "tags": []
          },
          "execution_count": 166
        }
      ]
    },
    {
      "cell_type": "code",
      "metadata": {
        "id": "VhwMEIootx5b",
        "colab_type": "code",
        "outputId": "a10ee78f-fe49-46ed-bffc-957398e0bebc",
        "colab": {
          "base_uri": "https://localhost:8080/",
          "height": 204
        }
      },
      "source": [
        "# np.ndarrayとdf.DataFrameの相互変換\n",
        "# df -> ndarray\n",
        "df.values\n",
        "\n",
        "# ndarray -> df\n",
        "df_nd = pd.DataFrame(data=np.random.randn(5, 5))\n",
        "df_nd"
      ],
      "execution_count": 0,
      "outputs": [
        {
          "output_type": "execute_result",
          "data": {
            "text/html": [
              "<div>\n",
              "<style scoped>\n",
              "    .dataframe tbody tr th:only-of-type {\n",
              "        vertical-align: middle;\n",
              "    }\n",
              "\n",
              "    .dataframe tbody tr th {\n",
              "        vertical-align: top;\n",
              "    }\n",
              "\n",
              "    .dataframe thead th {\n",
              "        text-align: right;\n",
              "    }\n",
              "</style>\n",
              "<table border=\"1\" class=\"dataframe\">\n",
              "  <thead>\n",
              "    <tr style=\"text-align: right;\">\n",
              "      <th></th>\n",
              "      <th>0</th>\n",
              "      <th>1</th>\n",
              "      <th>2</th>\n",
              "      <th>3</th>\n",
              "      <th>4</th>\n",
              "    </tr>\n",
              "  </thead>\n",
              "  <tbody>\n",
              "    <tr>\n",
              "      <th>0</th>\n",
              "      <td>2.100126</td>\n",
              "      <td>0.297094</td>\n",
              "      <td>-1.806966</td>\n",
              "      <td>-1.576040</td>\n",
              "      <td>0.757308</td>\n",
              "    </tr>\n",
              "    <tr>\n",
              "      <th>1</th>\n",
              "      <td>-0.094480</td>\n",
              "      <td>-0.331376</td>\n",
              "      <td>1.157276</td>\n",
              "      <td>0.483595</td>\n",
              "      <td>0.998641</td>\n",
              "    </tr>\n",
              "    <tr>\n",
              "      <th>2</th>\n",
              "      <td>-1.085652</td>\n",
              "      <td>-0.161739</td>\n",
              "      <td>-1.399602</td>\n",
              "      <td>-0.268105</td>\n",
              "      <td>0.719776</td>\n",
              "    </tr>\n",
              "    <tr>\n",
              "      <th>3</th>\n",
              "      <td>-1.373030</td>\n",
              "      <td>1.274096</td>\n",
              "      <td>2.681026</td>\n",
              "      <td>-1.155456</td>\n",
              "      <td>0.981598</td>\n",
              "    </tr>\n",
              "    <tr>\n",
              "      <th>4</th>\n",
              "      <td>0.295803</td>\n",
              "      <td>0.851129</td>\n",
              "      <td>0.739963</td>\n",
              "      <td>0.670242</td>\n",
              "      <td>1.818439</td>\n",
              "    </tr>\n",
              "  </tbody>\n",
              "</table>\n",
              "</div>"
            ],
            "text/plain": [
              "          0         1         2         3         4\n",
              "0  2.100126  0.297094 -1.806966 -1.576040  0.757308\n",
              "1 -0.094480 -0.331376  1.157276  0.483595  0.998641\n",
              "2 -1.085652 -0.161739 -1.399602 -0.268105  0.719776\n",
              "3 -1.373030  1.274096  2.681026 -1.155456  0.981598\n",
              "4  0.295803  0.851129  0.739963  0.670242  1.818439"
            ]
          },
          "metadata": {
            "tags": []
          },
          "execution_count": 168
        }
      ]
    },
    {
      "cell_type": "markdown",
      "metadata": {
        "id": "NcL9olVPoek5",
        "colab_type": "text"
      },
      "source": [
        "# テキストの内容"
      ]
    },
    {
      "cell_type": "markdown",
      "metadata": {
        "id": "gu1zGUzGAJnh",
        "colab_type": "text"
      },
      "source": [
        "## 11.1 ~ 7"
      ]
    },
    {
      "cell_type": "code",
      "metadata": {
        "id": "qrW6MPHcmiNN",
        "colab_type": "code",
        "colab": {}
      },
      "source": [
        "type(df)"
      ],
      "execution_count": 0,
      "outputs": []
    },
    {
      "cell_type": "code",
      "metadata": {
        "id": "o6Q0i2numjvo",
        "colab_type": "code",
        "colab": {}
      },
      "source": [
        "df.head(3)"
      ],
      "execution_count": 0,
      "outputs": []
    },
    {
      "cell_type": "code",
      "metadata": {
        "id": "6JYxwvEXmmYb",
        "colab_type": "code",
        "colab": {}
      },
      "source": [
        "df['longitude'].head(3)"
      ],
      "execution_count": 0,
      "outputs": []
    },
    {
      "cell_type": "code",
      "metadata": {
        "id": "z4dpILGqmuyo",
        "colab_type": "code",
        "colab": {}
      },
      "source": [
        "df.to_csv('sample.csv')"
      ],
      "execution_count": 0,
      "outputs": []
    },
    {
      "cell_type": "code",
      "metadata": {
        "id": "tziZ8oRpm1im",
        "colab_type": "code",
        "colab": {}
      },
      "source": [
        "!ls"
      ],
      "execution_count": 0,
      "outputs": []
    },
    {
      "cell_type": "code",
      "metadata": {
        "id": "k-OH0nk5m38e",
        "colab_type": "code",
        "colab": {}
      },
      "source": [
        "df.shape"
      ],
      "execution_count": 0,
      "outputs": []
    },
    {
      "cell_type": "code",
      "metadata": {
        "id": "-PVZa1QLm-pd",
        "colab_type": "code",
        "colab": {}
      },
      "source": [
        "df.mean()"
      ],
      "execution_count": 0,
      "outputs": []
    },
    {
      "cell_type": "code",
      "metadata": {
        "id": "80CggGYSnBex",
        "colab_type": "code",
        "colab": {}
      },
      "source": [
        "df.var()"
      ],
      "execution_count": 0,
      "outputs": []
    },
    {
      "cell_type": "code",
      "metadata": {
        "id": "yzZhd4D-nDIc",
        "colab_type": "code",
        "colab": {}
      },
      "source": [
        "df.count()"
      ],
      "execution_count": 0,
      "outputs": []
    },
    {
      "cell_type": "code",
      "metadata": {
        "id": "Dih_MscunQuy",
        "colab_type": "code",
        "colab": {}
      },
      "source": [
        "df.describe()"
      ],
      "execution_count": 0,
      "outputs": []
    },
    {
      "cell_type": "code",
      "metadata": {
        "id": "iamQWKm2nTti",
        "colab_type": "code",
        "colab": {}
      },
      "source": [
        "df.corr()"
      ],
      "execution_count": 0,
      "outputs": []
    },
    {
      "cell_type": "code",
      "metadata": {
        "id": "WxFf00x3ncyo",
        "colab_type": "code",
        "colab": {}
      },
      "source": [
        "# total_rooms 列の値を昇順に並び替え\n",
        "df_as = df.sort_values(by='total_rooms')\n",
        "df_as.head()"
      ],
      "execution_count": 0,
      "outputs": []
    },
    {
      "cell_type": "code",
      "metadata": {
        "id": "nGJjoJcypO9P",
        "colab_type": "code",
        "colab": {}
      },
      "source": [
        "# 降順に\n",
        "df_de = df.sort_values(by='total_rooms', ascending=False)\n",
        "df_de.head()"
      ],
      "execution_count": 0,
      "outputs": []
    },
    {
      "cell_type": "markdown",
      "metadata": {
        "id": "V8VcxzMJplx7",
        "colab_type": "text"
      },
      "source": [
        "## 11.8 データの選択\n"
      ]
    },
    {
      "cell_type": "code",
      "metadata": {
        "id": "TzqVbRwQpxdo",
        "colab_type": "code",
        "colab": {}
      },
      "source": [
        "df.head()"
      ],
      "execution_count": 0,
      "outputs": []
    },
    {
      "cell_type": "code",
      "metadata": {
        "id": "FnTQwrzIr-JJ",
        "colab_type": "code",
        "colab": {}
      },
      "source": [
        "# df.iloc['行', '列']\n",
        "# 0 行目 longitude 列の選択\n",
        "df.iloc[0, 0]"
      ],
      "execution_count": 0,
      "outputs": []
    },
    {
      "cell_type": "code",
      "metadata": {
        "id": "RIdFZ5TksLEP",
        "colab_type": "code",
        "colab": {}
      },
      "source": [
        "# 1 行目latitude 列の選択\n",
        "df.iloc[1, 1]"
      ],
      "execution_count": 0,
      "outputs": []
    },
    {
      "cell_type": "code",
      "metadata": {
        "id": "4kTPN8DhsSa2",
        "colab_type": "code",
        "colab": {}
      },
      "source": [
        "# 全ての行の最終列を選択 serieseオブジェクトで返される\n",
        "t = df.iloc[:, -1]\n",
        "t.head()"
      ],
      "execution_count": 0,
      "outputs": []
    },
    {
      "cell_type": "code",
      "metadata": {
        "id": "b3DBRpDJsnWp",
        "colab_type": "code",
        "colab": {}
      },
      "source": [
        "type(t)"
      ],
      "execution_count": 0,
      "outputs": []
    },
    {
      "cell_type": "code",
      "metadata": {
        "id": "_tDXQSg_srWZ",
        "colab_type": "code",
        "colab": {}
      },
      "source": [
        "# 全ての行の、先頭列から末尾ひとつ前の列までを選択\n",
        "x = df.iloc[:, 0:-1]\n",
        "x.head(3)"
      ],
      "execution_count": 0,
      "outputs": []
    },
    {
      "cell_type": "markdown",
      "metadata": {
        "id": "nQmiRNkzss84",
        "colab_type": "text"
      },
      "source": [
        "## 11.9 条件指定による要素の選択"
      ]
    },
    {
      "cell_type": "code",
      "metadata": {
        "id": "yZ9ssz2ztyM4",
        "colab_type": "code",
        "colab": {}
      },
      "source": [
        "# median_house_value 列を選択し、全要素に対し70000より大きいかを計算\n",
        "mask = df['median_house_value'] > 70000\n",
        "mask.head()"
      ],
      "execution_count": 0,
      "outputs": []
    },
    {
      "cell_type": "code",
      "metadata": {
        "id": "vH5JIVxVuBB0",
        "colab_type": "code",
        "colab": {}
      },
      "source": [
        "# 上で作ったmaskを使ってデータの選択ができる！\n",
        "df[mask].head()\n"
      ],
      "execution_count": 0,
      "outputs": []
    },
    {
      "cell_type": "code",
      "metadata": {
        "id": "kxSBA6m5uWo5",
        "colab_type": "code",
        "colab": {}
      },
      "source": [
        "### 11.9.1 複数行の条件指定による要素選択\n",
        "# 70000より小さいか80000より大きいかのやつ\n",
        "mask2 = (df['median_house_value'] < 70000) | (df['median_house_value'] > 80000)\n",
        "mask2.head()"
      ],
      "execution_count": 0,
      "outputs": []
    },
    {
      "cell_type": "code",
      "metadata": {
        "id": "IKcWkZ6vuw2R",
        "colab_type": "code",
        "colab": {}
      },
      "source": [
        "df[mask2].head()"
      ],
      "execution_count": 0,
      "outputs": []
    },
    {
      "cell_type": "code",
      "metadata": {
        "id": "sKO26qTRu2j-",
        "colab_type": "code",
        "colab": {}
      },
      "source": [
        "## 11.9.2 条件指定による要素の置換\n",
        "df['target'] = None\n",
        "df.head()"
      ],
      "execution_count": 0,
      "outputs": []
    },
    {
      "cell_type": "code",
      "metadata": {
        "id": "EmyMTeU0u9Yl",
        "colab_type": "code",
        "colab": {}
      },
      "source": [
        "mask1 = df['median_house_value'] < 60000\n",
        "mask2 = (df['median_house_value'] >= 60000) & (df['median_house_value'] < 70000)\n",
        "mask3 = (df['median_house_value'] >= 70000) & (df['median_house_value'] < 80000)\n",
        "mask4 = df['median_house_value'] >= 80000"
      ],
      "execution_count": 0,
      "outputs": []
    },
    {
      "cell_type": "code",
      "metadata": {
        "id": "8whLAFbgwa27",
        "colab_type": "code",
        "colab": {}
      },
      "source": [
        "df.loc[mask1, 'target'] = 0\n",
        "df.loc[mask2, 'target'] = 1\n",
        "df.loc[mask3, 'target'] = 2\n",
        "df.loc[mask4, 'target'] = 3"
      ],
      "execution_count": 0,
      "outputs": []
    },
    {
      "cell_type": "code",
      "metadata": {
        "id": "6QiGFheywnE3",
        "colab_type": "code",
        "colab": {}
      },
      "source": [
        "df.head()"
      ],
      "execution_count": 0,
      "outputs": []
    },
    {
      "cell_type": "markdown",
      "metadata": {
        "id": "Zjc2Izc6wqBR",
        "colab_type": "text"
      },
      "source": [
        "## 11.10 欠損値の除去・補完"
      ]
    },
    {
      "cell_type": "markdown",
      "metadata": {
        "id": "loCIHTBkowCA",
        "colab_type": "text"
      },
      "source": [
        "### レコードの削除"
      ]
    },
    {
      "cell_type": "code",
      "metadata": {
        "id": "ZXqaeyNCAfzb",
        "colab_type": "code",
        "colab": {}
      },
      "source": [
        "df.iloc[0, 0] = None\n",
        "df.head(3)"
      ],
      "execution_count": 0,
      "outputs": []
    },
    {
      "cell_type": "code",
      "metadata": {
        "id": "TyzbM7J3oTzo",
        "colab_type": "code",
        "colab": {}
      },
      "source": [
        "# 欠損値のあるレコードを削除\n",
        "df_dropna = df.dropna()\n",
        "df_dropna.head(3)"
      ],
      "execution_count": 0,
      "outputs": []
    },
    {
      "cell_type": "markdown",
      "metadata": {
        "id": "548zgwCfor7x",
        "colab_type": "text"
      },
      "source": [
        "### レコードの補完"
      ]
    },
    {
      "cell_type": "code",
      "metadata": {
        "id": "NfBISRPPol_y",
        "colab_type": "code",
        "colab": {}
      },
      "source": [
        "mean = df.mean()\n",
        "mean"
      ],
      "execution_count": 0,
      "outputs": []
    },
    {
      "cell_type": "code",
      "metadata": {
        "id": "RgG_AEcxo0IU",
        "colab_type": "code",
        "colab": {}
      },
      "source": [
        "# 欠損値をmeanで補完\n",
        "df_fillna = df.fillna(mean)\n",
        "\n",
        "# 先頭から３件を表示\n",
        "df_fillna.head(3)"
      ],
      "execution_count": 0,
      "outputs": []
    },
    {
      "cell_type": "markdown",
      "metadata": {
        "id": "JvLyskBCpFR_",
        "colab_type": "text"
      },
      "source": [
        "## 11.11 ndarrayとデータフレームを相互に変換\n",
        "numpyのndarrayに変換する。   \n",
        "\n",
        "pandasのデータは``.values``のプロパティでnumpy.ndarrayに変換できる。また、pd.DataFrameに引数で渡せばnp.ndarrayをdataframeに変換することも可能。"
      ]
    },
    {
      "cell_type": "code",
      "metadata": {
        "id": "yD3G0bMcqbOK",
        "colab_type": "code",
        "colab": {}
      },
      "source": [
        "print(type(df))\n",
        "print(type(df.values))"
      ],
      "execution_count": 0,
      "outputs": []
    },
    {
      "cell_type": "code",
      "metadata": {
        "id": "3-PMZK-2qoMH",
        "colab_type": "code",
        "colab": {}
      },
      "source": [
        "df.values # pandasの気を利かせた表示ではなくなる"
      ],
      "execution_count": 0,
      "outputs": []
    },
    {
      "cell_type": "code",
      "metadata": {
        "id": "dgCPU8cfq7Av",
        "colab_type": "code",
        "colab": {}
      },
      "source": [
        "print(type(df['longitude']))\n",
        "print(type(df['longitude'].values))"
      ],
      "execution_count": 0,
      "outputs": []
    },
    {
      "cell_type": "code",
      "metadata": {
        "id": "_YFX0I9irEpx",
        "colab_type": "code",
        "colab": {}
      },
      "source": [
        "import numpy as np\n",
        "\n",
        "# ndarray -> pd.DataFrame\n",
        "df = pd.DataFrame(\n",
        "    data=np.random.randn(10, 10)\n",
        ")\n",
        "df"
      ],
      "execution_count": 0,
      "outputs": []
    },
    {
      "cell_type": "markdown",
      "metadata": {
        "id": "ayJHtMQesg3h",
        "colab_type": "text"
      },
      "source": [
        "## 11.12 グラフの描画"
      ]
    },
    {
      "cell_type": "code",
      "metadata": {
        "id": "NOpCzOWmskbm",
        "colab_type": "code",
        "colab": {}
      },
      "source": [
        "df.plot()"
      ],
      "execution_count": 0,
      "outputs": []
    },
    {
      "cell_type": "code",
      "metadata": {
        "id": "8n5E13Oisy6I",
        "colab_type": "code",
        "colab": {}
      },
      "source": [
        ""
      ],
      "execution_count": 0,
      "outputs": []
    }
  ]
}