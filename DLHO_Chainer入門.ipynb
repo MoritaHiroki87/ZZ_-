{
  "nbformat": 4,
  "nbformat_minor": 0,
  "metadata": {
    "colab": {
      "name": "DLHO_Chainer入門.ipynb",
      "version": "0.3.2",
      "provenance": [],
      "collapsed_sections": [
        "WsVienZGH0aQ",
        "4Tv7RaEo7XcK",
        "1zWEPo9j7B5B",
        "CY7_s8ko86zS",
        "miAFxnOC-zrV",
        "xhb1iXvHAH5h",
        "MluVbW3qbWtz"
      ],
      "include_colab_link": true
    },
    "kernelspec": {
      "name": "python3",
      "display_name": "Python 3"
    }
  },
  "cells": [
    {
      "cell_type": "markdown",
      "metadata": {
        "id": "view-in-github",
        "colab_type": "text"
      },
      "source": [
        "<a href=\"https://colab.research.google.com/github/MoritaHiroki87/ZZ_MachineLearningNote/blob/master/DLHO_Chainer%E5%85%A5%E9%96%80.ipynb\" target=\"_parent\"><img src=\"https://colab.research.google.com/assets/colab-badge.svg\" alt=\"Open In Colab\"/></a>"
      ]
    },
    {
      "cell_type": "markdown",
      "metadata": {
        "id": "wtxXMjQf7GRN",
        "colab_type": "text"
      },
      "source": [
        "# 6 Chainer入門（分類）\n",
        "## 6章で覚えときたいこと\n",
        "\n",
        "### LinearとFunctionsの違い\n",
        "L（Linear）が線形変換、引数あり。   \n",
        "F（Functions）が非線形変換、引数なし。   \n",
        "\n",
        "### データの分割\n",
        "基本、pandasのDFで読み込んで、ilocで分割して、データ形式を整えていく。   \n",
        "データ形式の要件は、\n",
        "\n",
        " - 入力変数や教師データがNumpyで定義されているか\n",
        " - 分類の場合、ラベルが0から始まっているか\n",
        " - 入力変数が float32、教師データが回帰の場合 float32、分類の場合 int32 で定義されているか\n",
        " \n",
        "というかんじ。 "
      ]
    },
    {
      "cell_type": "markdown",
      "metadata": {
        "id": "WsVienZGH0aQ",
        "colab_type": "text"
      },
      "source": [
        "## 6.1 Chainerの基礎"
      ]
    },
    {
      "cell_type": "code",
      "metadata": {
        "id": "61Yr6upZ6fh3",
        "colab_type": "code",
        "colab": {
          "base_uri": "https://localhost:8080/",
          "height": 54
        },
        "outputId": "785315ae-b07c-4104-b999-0fe299f0fb79"
      },
      "source": [
        "import chainer\n",
        "chainer.__version__"
      ],
      "execution_count": 296,
      "outputs": [
        {
          "output_type": "execute_result",
          "data": {
            "text/plain": [
              "'5.4.0'"
            ]
          },
          "metadata": {
            "tags": []
          },
          "execution_count": 296
        }
      ]
    },
    {
      "cell_type": "markdown",
      "metadata": {
        "id": "4Tv7RaEo7XcK",
        "colab_type": "text"
      },
      "source": [
        "### 6.1.1 リンクの定義"
      ]
    },
    {
      "cell_type": "code",
      "metadata": {
        "id": "uHCWwse_6yCo",
        "colab_type": "code",
        "colab": {}
      },
      "source": [
        "import chainer.links as L"
      ],
      "execution_count": 0,
      "outputs": []
    },
    {
      "cell_type": "code",
      "metadata": {
        "id": "OHY3-F7m64R_",
        "colab_type": "code",
        "colab": {}
      },
      "source": [
        "# fc (fully-connected layerの略)\n",
        "fc = L.Linear(3, 2)"
      ],
      "execution_count": 0,
      "outputs": []
    },
    {
      "cell_type": "code",
      "metadata": {
        "id": "5ijUoWvt685G",
        "colab_type": "code",
        "colab": {
          "base_uri": "https://localhost:8080/",
          "height": 71
        },
        "outputId": "5a4ed75b-7a9c-4157-8bd9-7c2063c1992e"
      },
      "source": [
        "fc.W"
      ],
      "execution_count": 299,
      "outputs": [
        {
          "output_type": "execute_result",
          "data": {
            "text/plain": [
              "variable W([[-0.4447606 , -0.42441568,  0.15621749],\n",
              "            [ 0.36207277,  0.4326906 , -0.5702473 ]])"
            ]
          },
          "metadata": {
            "tags": []
          },
          "execution_count": 299
        }
      ]
    },
    {
      "cell_type": "code",
      "metadata": {
        "id": "R51cLPGR6-S5",
        "colab_type": "code",
        "colab": {
          "base_uri": "https://localhost:8080/",
          "height": 54
        },
        "outputId": "5ff20e57-9edd-49d0-a465-72bb4e707501"
      },
      "source": [
        "fc.b"
      ],
      "execution_count": 300,
      "outputs": [
        {
          "output_type": "execute_result",
          "data": {
            "text/plain": [
              "variable b([0., 0.])"
            ]
          },
          "metadata": {
            "tags": []
          },
          "execution_count": 300
        }
      ]
    },
    {
      "cell_type": "markdown",
      "metadata": {
        "id": "1zWEPo9j7B5B",
        "colab_type": "text"
      },
      "source": [
        "### 6.1.2 乱数のシードを固定して再現性を確保\n",
        "これ疑問。   \n",
        "ここの固定ってのはなんなのか？　このjupyternotebookを開いていたら？　同じDocker上で作業していたら？　ということは同じリソースに触るのか複数人で？　まあええねんけどな。"
      ]
    },
    {
      "cell_type": "code",
      "metadata": {
        "id": "21yGrcpD7nxX",
        "colab_type": "code",
        "colab": {}
      },
      "source": [
        "import numpy as np\n",
        "np.random.seed(3)"
      ],
      "execution_count": 0,
      "outputs": []
    },
    {
      "cell_type": "code",
      "metadata": {
        "id": "vqZArdUM7tCM",
        "colab_type": "code",
        "colab": {
          "base_uri": "https://localhost:8080/",
          "height": 54
        },
        "outputId": "8fc23ce9-be39-44cb-93c4-e36916932d73"
      },
      "source": [
        "fc.W\n",
        "fc.b"
      ],
      "execution_count": 302,
      "outputs": [
        {
          "output_type": "execute_result",
          "data": {
            "text/plain": [
              "variable b([0., 0.])"
            ]
          },
          "metadata": {
            "tags": []
          },
          "execution_count": 302
        }
      ]
    },
    {
      "cell_type": "markdown",
      "metadata": {
        "id": "CY7_s8ko86zS",
        "colab_type": "text"
      },
      "source": [
        "### 6.1.3 線形変換の値を計算しよう\n",
        "forwardの処理。   \n",
        "なお、Chainerで計算するにあたって、要素の型はfloat32にする必要がある。"
      ]
    },
    {
      "cell_type": "code",
      "metadata": {
        "id": "lyyrDE869DKP",
        "colab_type": "code",
        "colab": {
          "base_uri": "https://localhost:8080/",
          "height": 54
        },
        "outputId": "52d4ed6b-400a-4abf-f72b-4d9b4f24842a"
      },
      "source": [
        " # 基本行列として作る\n",
        "x = np.array([[1, 2, 3]], dtype=np.float32)\n",
        "\n",
        "print(type(x), x.shape)"
      ],
      "execution_count": 303,
      "outputs": [
        {
          "output_type": "stream",
          "text": [
            "<class 'numpy.ndarray'> (1, 3)\n"
          ],
          "name": "stdout"
        }
      ]
    },
    {
      "cell_type": "code",
      "metadata": {
        "id": "wmMiNhHE9JPO",
        "colab_type": "code",
        "colab": {
          "base_uri": "https://localhost:8080/",
          "height": 54
        },
        "outputId": "44100934-7737-412e-c61d-8e7b6fac198c"
      },
      "source": [
        "u = fc(x)\n",
        "u"
      ],
      "execution_count": 304,
      "outputs": [
        {
          "output_type": "execute_result",
          "data": {
            "text/plain": [
              "variable([[-0.8249395 , -0.48328793]])"
            ]
          },
          "metadata": {
            "tags": []
          },
          "execution_count": 304
        }
      ]
    },
    {
      "cell_type": "markdown",
      "metadata": {
        "id": "rAK62BNO9fDX",
        "colab_type": "text"
      },
      "source": [
        "### 6.1.4 非線形変換の値を計算しよう\n",
        "これは発火関数とか。   \n",
        "relu関数は負の数の場合０になって、正の数の場合そのままのやつ。\n"
      ]
    },
    {
      "cell_type": "code",
      "metadata": {
        "id": "KX8q6wGL-TBl",
        "colab_type": "code",
        "colab": {
          "base_uri": "https://localhost:8080/",
          "height": 54
        },
        "outputId": "776ddf9e-3b2a-4315-da2c-643d7878f999"
      },
      "source": [
        "import chainer.functions as F\n",
        "z = F.relu(u)\n",
        "z"
      ],
      "execution_count": 305,
      "outputs": [
        {
          "output_type": "execute_result",
          "data": {
            "text/plain": [
              "variable([[0., 0.]])"
            ]
          },
          "metadata": {
            "tags": []
          },
          "execution_count": 305
        }
      ]
    },
    {
      "cell_type": "markdown",
      "metadata": {
        "id": "miAFxnOC-zrV",
        "colab_type": "text"
      },
      "source": [
        "## 6.2 練習問題"
      ]
    },
    {
      "cell_type": "code",
      "metadata": {
        "id": "NJgjkKuR_LyY",
        "colab_type": "code",
        "colab": {
          "base_uri": "https://localhost:8080/",
          "height": 54
        },
        "outputId": "8650096c-1641-4345-e205-64250cd6a411"
      },
      "source": [
        "# 入力\n",
        "np.random.seed(3)\n",
        "\n",
        "x = np.array([[1, 2, 3]], dtype=np.float32)\n",
        "\n",
        "fc1 = L.Linear(3, 2)\n",
        "fc2 = L.Linear(2, 1)\n",
        "\n",
        "# 実装\n",
        "u1 = fc1(x)\n",
        "z1 = F.relu(u1)\n",
        "y = fc2(z1)\n",
        "y"
      ],
      "execution_count": 306,
      "outputs": [
        {
          "output_type": "execute_result",
          "data": {
            "text/plain": [
              "variable([[-0.09968679]])"
            ]
          },
          "metadata": {
            "tags": []
          },
          "execution_count": 306
        }
      ]
    },
    {
      "cell_type": "markdown",
      "metadata": {
        "id": "xhb1iXvHAH5h",
        "colab_type": "text"
      },
      "source": [
        "## 6.3 損失関数の値を計算しよう"
      ]
    },
    {
      "cell_type": "code",
      "metadata": {
        "id": "pjHkjkbaHPZF",
        "colab_type": "code",
        "colab": {
          "base_uri": "https://localhost:8080/",
          "height": 54
        },
        "outputId": "dc579d7c-b92e-4f1a-ad18-db5de3102afe"
      },
      "source": [
        "t = np.array([[3]], 'f')\n",
        "print(type(t[0, 0]))"
      ],
      "execution_count": 307,
      "outputs": [
        {
          "output_type": "stream",
          "text": [
            "<class 'numpy.float32'>\n"
          ],
          "name": "stdout"
        }
      ]
    },
    {
      "cell_type": "code",
      "metadata": {
        "id": "T9BJb8E1HYZN",
        "colab_type": "code",
        "colab": {
          "base_uri": "https://localhost:8080/",
          "height": 54
        },
        "outputId": "482b5a26-b06c-49ca-e583-bb1295a37d63"
      },
      "source": [
        "loss = F.mean_squared_error(t, y)\n",
        "loss"
      ],
      "execution_count": 308,
      "outputs": [
        {
          "output_type": "execute_result",
          "data": {
            "text/plain": [
              "variable(9.608059)"
            ]
          },
          "metadata": {
            "tags": []
          },
          "execution_count": 308
        }
      ]
    },
    {
      "cell_type": "markdown",
      "metadata": {
        "id": "L4mTxzwdHhf7",
        "colab_type": "text"
      },
      "source": [
        "## 6.4 Chainerでクラス分類"
      ]
    },
    {
      "cell_type": "markdown",
      "metadata": {
        "id": "sOg_faY7cVM_",
        "colab_type": "text"
      },
      "source": [
        "### 6.4.1 データの準備"
      ]
    },
    {
      "cell_type": "code",
      "metadata": {
        "id": "9oTtq4jWIJ2R",
        "colab_type": "code",
        "colab": {}
      },
      "source": [
        "# ワインのデータがどこにあるんか分からんからイリス使う\n",
        "import pandas as pd\n",
        "from sklearn.datasets import load_iris\n",
        "\n",
        "x, t = load_iris(return_X_y=True)\n",
        "\n"
      ],
      "execution_count": 0,
      "outputs": []
    },
    {
      "cell_type": "markdown",
      "metadata": {
        "id": "B44IRe_LOPNi",
        "colab_type": "text"
      },
      "source": [
        "#### 入力データとターゲットを切り分け\n"
      ]
    },
    {
      "cell_type": "code",
      "metadata": {
        "id": "0hDgvsD4P6V0",
        "colab_type": "code",
        "colab": {}
      },
      "source": [
        "# すでにnumpyのデータになってるので下記必要ないが、一番悩んだところなのでかく\n",
        "# df = pd.read_csv('data/wine_class.csv')\n",
        "\n",
        "# t = df.iloc[:, 0]\n",
        "# x = df.iloc[:, 1:]"
      ],
      "execution_count": 0,
      "outputs": []
    },
    {
      "cell_type": "markdown",
      "metadata": {
        "id": "Fe7L5kQUP7Ir",
        "colab_type": "text"
      },
      "source": [
        "#### Cnainerで扱えるデータ形式へ変換\n",
        "扱えるデータ形式は\n",
        "\n",
        " - 入力変数や教師データがNumpyで定義されているか\n",
        " - 分類の場合、ラベルが0から始まっているか\n",
        " - 入力変数が float32、教師データが回帰の場合 float32、分類の場合 int32 で定義されているか\n",
        "\n",
        "って感じだ！"
      ]
    },
    {
      "cell_type": "markdown",
      "metadata": {
        "id": "5syBYWKvQGx4",
        "colab_type": "text"
      },
      "source": [
        "##### Numpyに変換"
      ]
    },
    {
      "cell_type": "code",
      "metadata": {
        "id": "rLNJ9rlTO8_e",
        "colab_type": "code",
        "colab": {}
      },
      "source": [
        "# type(x)\n",
        "# -> pandas.core.frame.DataFrame\n",
        "# x = x.values"
      ],
      "execution_count": 0,
      "outputs": []
    },
    {
      "cell_type": "markdown",
      "metadata": {
        "id": "Dkrl2afPQKSW",
        "colab_type": "text"
      },
      "source": [
        "##### 分類で使うラベルを０から始める"
      ]
    },
    {
      "cell_type": "code",
      "metadata": {
        "id": "UuvoFXtaO-W5",
        "colab_type": "code",
        "colab": {}
      },
      "source": [
        "# t.min()\n",
        "# -> 1\n",
        "# t.max()\n",
        "# -> 3\n",
        "\n",
        "# t = t.values - 1"
      ],
      "execution_count": 0,
      "outputs": []
    },
    {
      "cell_type": "markdown",
      "metadata": {
        "id": "-jqJMIwCQO1I",
        "colab_type": "text"
      },
      "source": [
        "##### データ型を32bitに変換"
      ]
    },
    {
      "cell_type": "code",
      "metadata": {
        "id": "aS_nhiDgPMGn",
        "colab_type": "code",
        "colab": {
          "base_uri": "https://localhost:8080/",
          "height": 34
        },
        "outputId": "8401a31c-423c-405a-82a6-c669f17ad12c"
      },
      "source": [
        "# データ型を変更\n",
        "\n",
        "t.dtype"
      ],
      "execution_count": 313,
      "outputs": [
        {
          "output_type": "execute_result",
          "data": {
            "text/plain": [
              "dtype('int64')"
            ]
          },
          "metadata": {
            "tags": []
          },
          "execution_count": 313
        }
      ]
    },
    {
      "cell_type": "code",
      "metadata": {
        "id": "g8oF_ToVPi02",
        "colab_type": "code",
        "colab": {}
      },
      "source": [
        "# 32bitに変換\n",
        "x = x.astype('float32')\n",
        "t = t.astype('int32')"
      ],
      "execution_count": 0,
      "outputs": []
    },
    {
      "cell_type": "markdown",
      "metadata": {
        "id": "TwJoTHOZPtl8",
        "colab_type": "text"
      },
      "source": [
        "#### Chaienrで使うデータセットの形式\n",
        "入力ベクトル、ターゲットスカラのタプルをリストにしたもの。   \n",
        "なお、``list(zip(x, t))``は``TupleDataset(x, t)``と同じデータ形式。"
      ]
    },
    {
      "cell_type": "code",
      "metadata": {
        "id": "0qXb2OUZQo05",
        "colab_type": "code",
        "colab": {
          "base_uri": "https://localhost:8080/",
          "height": 68
        },
        "outputId": "1522255f-a211-48cf-d5d3-16a1f9eba73d"
      },
      "source": [
        "dataset = list(zip(x, t))\n",
        "print(type(dataset))\n",
        "print(type(dataset[-1]))\n",
        "print(dataset[-1])"
      ],
      "execution_count": 315,
      "outputs": [
        {
          "output_type": "stream",
          "text": [
            "<class 'list'>\n",
            "<class 'tuple'>\n",
            "(array([5.9, 3. , 5.1, 1.8], dtype=float32), 2)\n"
          ],
          "name": "stdout"
        }
      ]
    },
    {
      "cell_type": "code",
      "metadata": {
        "id": "AkxwTnnqSMyx",
        "colab_type": "code",
        "colab": {
          "base_uri": "https://localhost:8080/",
          "height": 68
        },
        "outputId": "98f32338-ad2e-432a-d4c6-8cb7b85c0621"
      },
      "source": [
        "from chainer.datasets import TupleDataset\n",
        "dataset2 = TupleDataset(x, t)\n",
        "print(type(dataset2))\n",
        "print(type(dataset2[-1]))\n",
        "print(dataset2[-1])"
      ],
      "execution_count": 316,
      "outputs": [
        {
          "output_type": "stream",
          "text": [
            "<class 'chainer.datasets.tuple_dataset.TupleDataset'>\n",
            "<class 'tuple'>\n",
            "(array([5.9, 3. , 5.1, 1.8], dtype=float32), 2)\n"
          ],
          "name": "stdout"
        }
      ]
    },
    {
      "cell_type": "markdown",
      "metadata": {
        "id": "EkK2o9tRSX1Z",
        "colab_type": "text"
      },
      "source": [
        "#### 訓練データと検証データの分割\n"
      ]
    },
    {
      "cell_type": "code",
      "metadata": {
        "id": "7qYHi4nPVHeg",
        "colab_type": "code",
        "colab": {}
      },
      "source": [
        "n_train = int(len(dataset) * 0.7)\n",
        "\n",
        "train, test = chainer.datasets.split_dataset_random(dataset, n_train, seed=1)"
      ],
      "execution_count": 0,
      "outputs": []
    },
    {
      "cell_type": "code",
      "metadata": {
        "id": "7EzTwxbvXP6a",
        "colab_type": "code",
        "colab": {
          "base_uri": "https://localhost:8080/",
          "height": 34
        },
        "outputId": "56f0ff4a-b355-40cb-e1e2-4428e2b7bd61"
      },
      "source": [
        "print(len(train), len(test))"
      ],
      "execution_count": 318,
      "outputs": [
        {
          "output_type": "stream",
          "text": [
            "105 45\n"
          ],
          "name": "stdout"
        }
      ]
    },
    {
      "cell_type": "markdown",
      "metadata": {
        "id": "f2yaPbDxX6nm",
        "colab_type": "text"
      },
      "source": [
        "### 6.4.2 モデルを定義"
      ]
    },
    {
      "cell_type": "markdown",
      "metadata": {
        "id": "-ZiKmZB0bYqL",
        "colab_type": "text"
      },
      "source": [
        "#### モデルの定義とインスタンス化"
      ]
    },
    {
      "cell_type": "code",
      "metadata": {
        "id": "ZQUQfnbyYWS4",
        "colab_type": "code",
        "colab": {}
      },
      "source": [
        "class NN(chainer.Chain):\n",
        "    \n",
        "    # モデルの構造\n",
        "    def __init__(self, n_mid_units=5, n_out=3):\n",
        "        super().__init__()\n",
        "        with self.init_scope():\n",
        "            self.fc1 = L.Linear(None, n_mid_units)\n",
        "            self.fc2 = L.Linear(None, n_out)\n",
        "            \n",
        "    # 順伝播\n",
        "    def __call__(self, x):\n",
        "        h = self.fc1(x)\n",
        "        h = F.relu(h)\n",
        "        h = self.fc2(h)\n",
        "        return h"
      ],
      "execution_count": 0,
      "outputs": []
    },
    {
      "cell_type": "code",
      "metadata": {
        "id": "TJmJaVSccBDV",
        "colab_type": "code",
        "colab": {}
      },
      "source": [
        "np.random.seed(1)"
      ],
      "execution_count": 0,
      "outputs": []
    },
    {
      "cell_type": "code",
      "metadata": {
        "id": "t1ylW9L4aTSe",
        "colab_type": "code",
        "colab": {}
      },
      "source": [
        "nn = NN()"
      ],
      "execution_count": 0,
      "outputs": []
    },
    {
      "cell_type": "markdown",
      "metadata": {
        "id": "MluVbW3qbWtz",
        "colab_type": "text"
      },
      "source": [
        "#### 損失関数をネットワークに登録する"
      ]
    },
    {
      "cell_type": "code",
      "metadata": {
        "id": "BPKtAYgGbyFY",
        "colab_type": "code",
        "colab": {}
      },
      "source": [
        "model = L.Classifier(nn)"
      ],
      "execution_count": 0,
      "outputs": []
    },
    {
      "cell_type": "markdown",
      "metadata": {
        "id": "9dslVrpCb3Eu",
        "colab_type": "text"
      },
      "source": [
        "### 6.4.3 最適化関数を定義"
      ]
    },
    {
      "cell_type": "code",
      "metadata": {
        "id": "FnpsxkhAcNJ_",
        "colab_type": "code",
        "colab": {}
      },
      "source": [
        "optimizer = chainer.optimizers.SGD().setup(model)"
      ],
      "execution_count": 0,
      "outputs": []
    },
    {
      "cell_type": "markdown",
      "metadata": {
        "id": "4qlJI47cc5ec",
        "colab_type": "text"
      },
      "source": [
        "### 6.4.4 Iteratorの定義（つまづきポイント！）"
      ]
    },
    {
      "cell_type": "markdown",
      "metadata": {
        "id": "kjAzBjY0c-Lj",
        "colab_type": "text"
      },
      "source": [
        "Iteratorではバッチサイズを決めることができる。ミニバッチを使うんだよ、わかったね...。"
      ]
    },
    {
      "cell_type": "code",
      "metadata": {
        "id": "jORfUfPwdjEp",
        "colab_type": "code",
        "colab": {}
      },
      "source": [
        "batchsize = 15"
      ],
      "execution_count": 0,
      "outputs": []
    },
    {
      "cell_type": "code",
      "metadata": {
        "id": "L1RewG8wdmx2",
        "colab_type": "code",
        "colab": {}
      },
      "source": [
        "train_iter = chainer.iterators.SerialIterator(train, batchsize)\n",
        "test_iter = chainer.iterators.SerialIterator(test, batchsize, repeat=False, shuffle=False)"
      ],
      "execution_count": 0,
      "outputs": []
    },
    {
      "cell_type": "markdown",
      "metadata": {
        "id": "ppGG67lueGI5",
        "colab_type": "text"
      },
      "source": [
        "### 6.4.5 Updaterの定義"
      ]
    },
    {
      "cell_type": "markdown",
      "metadata": {
        "id": "88e23uy-eKWL",
        "colab_type": "text"
      },
      "source": [
        "UpdaterはoptimizerとIteratorをラップ？して、Optimizerの設定やデバイスの設定を行えます！"
      ]
    },
    {
      "cell_type": "code",
      "metadata": {
        "id": "A_D4T4uWeXwO",
        "colab_type": "code",
        "colab": {}
      },
      "source": [
        "from chainer import training\n",
        "updater = training.StandardUpdater(train_iter, optimizer, device=-1)"
      ],
      "execution_count": 0,
      "outputs": []
    },
    {
      "cell_type": "markdown",
      "metadata": {
        "id": "Ki2aa7dxe9r2",
        "colab_type": "text"
      },
      "source": [
        "### 6.4.6 Trainerとextensionsの設定\n",
        "トレーナはアップデータとエクステンションをまとめたやつ"
      ]
    },
    {
      "cell_type": "code",
      "metadata": {
        "id": "XdOY6LrDgrrD",
        "colab_type": "code",
        "colab": {}
      },
      "source": [
        "from chainer.training import extensions"
      ],
      "execution_count": 0,
      "outputs": []
    },
    {
      "cell_type": "code",
      "metadata": {
        "id": "uB9CWyJqjYb1",
        "colab_type": "code",
        "colab": {}
      },
      "source": [
        "epoch = 150"
      ],
      "execution_count": 0,
      "outputs": []
    },
    {
      "cell_type": "code",
      "metadata": {
        "id": "p0a4OjYejZzJ",
        "colab_type": "code",
        "colab": {}
      },
      "source": [
        "# trainerの宣言\n",
        "trainer = training.Trainer(updater, (epoch, 'epoch'))\n",
        "\n",
        "# 検証データで評価\n",
        "trainer.extend(extensions.Evaluator(test_iter, model, device=-1))\n",
        "\n",
        "# 学習の経過をtrainerのoutで指定したフォルダにlogというファイル名で記録する\n",
        "trainer.extend(extensions.LogReport(trigger=(1, 'epoch')))\n",
        "\n",
        "# １エポックごと(trigger)に、trainデータに対するlossと、testデータに対するloss、経過時間（elapsed_time）を標準出力させる\n",
        "trainer.extend(extensions.PrintReport(['epoch', 'main/accuracy', 'validation/main/accuracy', 'main/loss', 'validation/main/loss', 'elapsed_time']), trigger=(1, 'epoch'))"
      ],
      "execution_count": 0,
      "outputs": []
    },
    {
      "cell_type": "markdown",
      "metadata": {
        "id": "n5rUL-fAj7O8",
        "colab_type": "text"
      },
      "source": [
        "### 6.4.7 学習の実行"
      ]
    },
    {
      "cell_type": "code",
      "metadata": {
        "id": "fbQYCXX7lbgC",
        "colab_type": "code",
        "colab": {
          "base_uri": "https://localhost:8080/",
          "height": 1000
        },
        "outputId": "f8934427-509f-4c8d-fa93-146dc0699507"
      },
      "source": [
        "trainer.run()"
      ],
      "execution_count": 330,
      "outputs": [
        {
          "output_type": "stream",
          "text": [
            "epoch       main/accuracy  validation/main/accuracy  main/loss   validation/main/loss  elapsed_time\n",
            "\u001b[J1           0.314286       0.377778                  1.56547     1.20309               0.0188358     \n",
            "\u001b[J2           0.342857       0.377778                  1.20016     1.05926               0.0373144     \n",
            "\u001b[J3           0.352381       0.333333                  1.05471     0.997503              0.058365      \n",
            "\u001b[J4           0.447619       0.555556                  0.985642    0.964277              0.0776756     \n",
            "\u001b[J5           0.609524       0.555556                  0.945412    0.938647              0.0952964     \n",
            "\u001b[J6           0.6            0.6                       0.912429    0.913035              0.11603       \n",
            "\u001b[J7           0.666667       0.666667                  0.887258    0.888623              0.133061      \n",
            "\u001b[J8           0.657143       0.711111                  0.862501    0.863581              0.152763      \n",
            "\u001b[J9           0.72381        0.755556                  0.838       0.84016               0.16943       \n",
            "\u001b[J10          0.733333       0.755556                  0.816578    0.818067              0.187999      \n",
            "\u001b[J11          0.695238       0.777778                  0.794092    0.794441              0.206967      \n",
            "\u001b[J12          0.809524       0.777778                  0.773333    0.773781              0.224879      \n",
            "\u001b[J13          0.742857       0.777778                  0.75367     0.75335               0.244225      \n",
            "\u001b[J14          0.761905       0.8                       0.733012    0.731803              0.262959      \n",
            "\u001b[J15          0.771429       0.822222                  0.715218    0.712304              0.282355      \n",
            "\u001b[J16          0.761905       0.822222                  0.697513    0.693522              0.303066      \n",
            "\u001b[J17          0.8            0.822222                  0.679911    0.675861              0.323064      \n",
            "\u001b[J18          0.809524       0.822222                  0.664018    0.6599                0.343226      \n",
            "\u001b[J19          0.809524       0.822222                  0.647922    0.64394               0.363163      \n",
            "\u001b[J20          0.790476       0.822222                  0.633316    0.627934              0.382771      \n",
            "\u001b[J21          0.809524       0.822222                  0.618995    0.612979              0.401983      \n",
            "\u001b[J22          0.8            0.822222                  0.604907    0.599585              0.423871      \n",
            "\u001b[J23          0.809524       0.822222                  0.591958    0.586505              0.44281       \n",
            "\u001b[J24          0.819048       0.844444                  0.581374    0.573752              0.463614      \n",
            "\u001b[J25          0.809524       0.844444                  0.568265    0.560855              0.484303      \n",
            "\u001b[J26          0.828571       0.844444                  0.557434    0.549332              0.506048      \n",
            "\u001b[J27          0.847619       0.844444                  0.547065    0.540057              0.534609      \n",
            "\u001b[J28          0.847619       0.844444                  0.535961    0.530049              0.555111      \n",
            "\u001b[J29          0.847619       0.844444                  0.528254    0.520595              0.575861      \n",
            "\u001b[J30          0.838095       0.844444                  0.517497    0.509772              0.595492      \n",
            "\u001b[J31          0.838095       0.844444                  0.51015     0.500672              0.615916      \n",
            "\u001b[J32          0.866667       0.888889                  0.502497    0.491668              0.635239      \n",
            "\u001b[J33          0.885714       0.844444                  0.494524    0.485344              0.654537      \n",
            "\u001b[J34          0.857143       0.911111                  0.485968    0.476071              0.672868      \n",
            "\u001b[J35          0.904762       0.844444                  0.480621    0.470749              0.692565      \n",
            "\u001b[J36          0.866667       0.866667                  0.471598    0.462333              0.712088      \n",
            "\u001b[J37          0.885714       0.911111                  0.466473    0.45542               0.733436      \n",
            "\u001b[J38          0.885714       0.911111                  0.457778    0.448372              0.751722      \n",
            "\u001b[J39          0.895238       0.911111                  0.452892    0.442348              0.772013      \n",
            "\u001b[J40          0.87619        0.933333                  0.444451    0.43458               0.792783      \n",
            "\u001b[J41          0.895238       0.955556                  0.439432    0.428724              0.81304       \n",
            "\u001b[J42          0.914286       0.888889                  0.433727    0.425773              0.838525      \n",
            "\u001b[J43          0.885714       0.911111                  0.431746    0.418469              0.859691      \n",
            "\u001b[J44          0.885714       0.933333                  0.424354    0.410673              0.878939      \n",
            "\u001b[J45          0.914286       0.955556                  0.418271    0.405022              0.897568      \n",
            "\u001b[J46          0.92381        0.955556                  0.41271     0.400406              0.917281      \n",
            "\u001b[J47          0.92381        0.955556                  0.40929     0.39724               0.936334      \n",
            "\u001b[J48          0.914286       0.955556                  0.402345    0.391251              0.956852      \n",
            "\u001b[J49          0.914286       0.933333                  0.398778    0.385669              0.976754      \n",
            "\u001b[J50          0.933333       0.955556                  0.394636    0.381615              0.995813      \n",
            "\u001b[J51          0.92381        0.933333                  0.388768    0.37668               1.01669       \n",
            "\u001b[J52          0.942857       0.955556                  0.386747    0.373986              1.03551       \n",
            "\u001b[J53          0.914286       0.955556                  0.386039    0.367616              1.05551       \n",
            "\u001b[J54          0.952381       0.955556                  0.376241    0.364289              1.07491       \n",
            "\u001b[J55          0.942857       0.955556                  0.375089    0.361984              1.09464       \n",
            "\u001b[J56          0.914286       0.955556                  0.369448    0.355344              1.12016       \n",
            "\u001b[J57          0.952381       0.955556                  0.368181    0.353943              1.13966       \n",
            "\u001b[J58          0.92381        0.955556                  0.360974    0.347105              1.16091       \n",
            "\u001b[J59          0.952381       0.955556                  0.360602    0.345683              1.18155       \n",
            "\u001b[J60          0.942857       0.955556                  0.354258    0.341758              1.20161       \n",
            "\u001b[J61          0.942857       0.955556                  0.350511    0.336625              1.22454       \n",
            "\u001b[J62          0.942857       0.933333                  0.345943    0.332129              1.24444       \n",
            "\u001b[J63          0.961905       0.955556                  0.34269     0.330541              1.26292       \n",
            "\u001b[J64          0.942857       0.955556                  0.337552    0.326096              1.28315       \n",
            "\u001b[J65          0.971429       0.955556                  0.335392    0.327586              1.30237       \n",
            "\u001b[J66          0.933333       0.955556                  0.333458    0.319367              1.32241       \n",
            "\u001b[J67          0.971429       0.955556                  0.330425    0.317171              1.34139       \n",
            "\u001b[J68          0.942857       0.933333                  0.326417    0.312121              1.3617        \n",
            "\u001b[J69          0.971429       0.955556                  0.324363    0.310016              1.38031       \n",
            "\u001b[J70          0.942857       0.955556                  0.318166    0.306508              1.40077       \n",
            "\u001b[J71          0.961905       0.955556                  0.316046    0.303906              1.41964       \n",
            "\u001b[J72          0.942857       0.933333                  0.31603     0.300392              1.43902       \n",
            "\u001b[J73          0.961905       0.955556                  0.311252    0.29792               1.45878       \n",
            "\u001b[J74          0.971429       0.955556                  0.306889    0.296887              1.47845       \n",
            "\u001b[J75          0.971429       0.955556                  0.301903    0.293406              1.4985        \n",
            "\u001b[J76          0.971429       0.955556                  0.299399    0.291237              1.51946       \n",
            "\u001b[J77          0.971429       0.955556                  0.301456    0.289952              1.53768       \n",
            "\u001b[J78          0.971429       0.955556                  0.293062    0.28477               1.55764       \n",
            "\u001b[J79          0.961905       0.933333                  0.29134     0.280968              1.57816       \n",
            "\u001b[J80          0.971429       0.955556                  0.290789    0.280112              1.59781       \n",
            "\u001b[J81          0.961905       0.955556                  0.293492    0.277379              1.61835       \n",
            "\u001b[J82          0.971429       0.955556                  0.283013    0.273909              1.63799       \n",
            "\u001b[J83          0.971429       0.933333                  0.281893    0.27066               1.65838       \n",
            "\u001b[J84          0.971429       0.955556                  0.281367    0.268931              1.67901       \n",
            "\u001b[J85          0.971429       0.955556                  0.275398    0.267192              1.70178       \n",
            "\u001b[J86          0.971429       0.955556                  0.274163    0.265189              1.72462       \n",
            "\u001b[J87          0.961905       0.955556                  0.272422    0.267101              1.74528       \n",
            "\u001b[J88          0.971429       0.933333                  0.268224    0.259294              1.76617       \n",
            "\u001b[J89          0.971429       0.955556                  0.264766    0.259267              1.78663       \n",
            "\u001b[J90          0.971429       0.955556                  0.264894    0.257524              1.80703       \n",
            "\u001b[J91          0.971429       0.933333                  0.26002     0.253057              1.82765       \n",
            "\u001b[J92          0.971429       0.933333                  0.26064     0.250231              1.8472        \n",
            "\u001b[J93          0.971429       0.955556                  0.25743     0.252039              1.86744       \n",
            "\u001b[J94          0.971429       0.955556                  0.255027    0.249662              1.88793       \n",
            "\u001b[J95          0.971429       0.955556                  0.251371    0.245367              1.90954       \n",
            "\u001b[J96          0.971429       0.955556                  0.250391    0.244498              1.92902       \n",
            "\u001b[J97          0.971429       0.955556                  0.247859    0.242862              1.9499        \n",
            "\u001b[J98          0.971429       0.955556                  0.24501     0.240272              1.97008       \n",
            "\u001b[J99          0.980952       0.955556                  0.245593    0.244769              1.99239       \n",
            "\u001b[J100         0.971429       0.933333                  0.243847    0.235125              2.01223       \n",
            "\u001b[J101         0.971429       0.955556                  0.239879    0.237504              2.03395       \n",
            "\u001b[J102         0.971429       0.933333                  0.238146    0.231908              2.05523       \n",
            "\u001b[J103         0.971429       0.933333                  0.235936    0.229182              2.07847       \n",
            "\u001b[J104         0.980952       0.955556                  0.233857    0.228922              2.09686       \n",
            "\u001b[J105         0.980952       0.933333                  0.232888    0.22564               2.11884       \n",
            "\u001b[J106         0.971429       0.933333                  0.230164    0.224594              2.13947       \n",
            "\u001b[J107         0.980952       0.955556                  0.230938    0.228234              2.16081       \n",
            "\u001b[J108         0.971429       0.933333                  0.229392    0.221077              2.18178       \n",
            "\u001b[J109         0.971429       0.955556                  0.225584    0.221499              2.20362       \n",
            "\u001b[J110         0.971429       0.933333                  0.222732    0.218194              2.22406       \n",
            "\u001b[J111         0.971429       0.955556                  0.227945    0.218524              2.24496       \n",
            "\u001b[J112         0.971429       0.955556                  0.219294    0.215745              2.26597       \n",
            "\u001b[J113         0.971429       0.955556                  0.22037     0.214682              2.28626       \n",
            "\u001b[J114         0.971429       0.955556                  0.214151    0.213162              2.30757       \n",
            "\u001b[J115         0.971429       0.933333                  0.217508    0.210299              2.32947       \n",
            "\u001b[J116         0.971429       0.933333                  0.213462    0.20908               2.34985       \n",
            "\u001b[J117         0.980952       0.933333                  0.211549    0.208155              2.37142       \n",
            "\u001b[J118         0.971429       0.933333                  0.211859    0.205839              2.39279       \n",
            "\u001b[J119         0.980952       0.977778                  0.21095     0.208912              2.4149        \n",
            "\u001b[J120         0.971429       0.955556                  0.205437    0.205902              2.43825       \n",
            "\u001b[J121         0.971429       0.933333                  0.206699    0.202066              2.45874       \n",
            "\u001b[J122         0.971429       0.933333                  0.205173    0.200538              2.48189       \n",
            "\u001b[J123         0.980952       0.933333                  0.203044    0.199095              2.5016        \n",
            "\u001b[J124         0.971429       0.933333                  0.199768    0.19864               2.52328       \n",
            "\u001b[J125         0.980952       0.955556                  0.201475    0.198764              2.54311       \n",
            "\u001b[J126         0.980952       0.955556                  0.200344    0.203247              2.5659        \n",
            "\u001b[J127         0.961905       0.955556                  0.209089    0.203306              2.58733       \n",
            "\u001b[J128         0.971429       0.955556                  0.197586    0.194527              2.60972       \n",
            "\u001b[J129         0.980952       0.933333                  0.19532     0.191909              2.63163       \n",
            "\u001b[J130         0.971429       0.933333                  0.192961    0.19078               2.65578       \n",
            "\u001b[J131         0.971429       0.933333                  0.189736    0.19048               2.6781        \n",
            "\u001b[J132         0.971429       0.933333                  0.194164    0.188764              2.69924       \n",
            "\u001b[J133         0.961905       0.955556                  0.195617    0.189951              2.72086       \n",
            "\u001b[J134         0.971429       0.933333                  0.186854    0.186577              2.74385       \n",
            "\u001b[J135         0.971429       0.933333                  0.184227    0.185264              2.76592       \n",
            "\u001b[J136         0.971429       0.955556                  0.18308     0.186665              2.79288       \n",
            "\u001b[J137         0.980952       0.955556                  0.18715     0.191241              2.81706       \n",
            "\u001b[J138         0.971429       0.955556                  0.182307    0.184736              2.83885       \n",
            "\u001b[J139         0.980952       0.955556                  0.179439    0.183712              2.86011       \n",
            "\u001b[J140         0.971429       0.933333                  0.178895    0.180305              2.88167       \n",
            "\u001b[J141         0.980952       0.933333                  0.184638    0.180201              2.90335       \n",
            "\u001b[J142         0.980952       0.955556                  0.180391    0.180854              2.92579       \n",
            "\u001b[J143         0.971429       0.933333                  0.179677    0.178004              2.94766       \n",
            "\u001b[J144         0.980952       0.955556                  0.175564    0.177849              2.96822       \n",
            "\u001b[J145         0.971429       0.933333                  0.177484    0.17637               2.99188       \n",
            "\u001b[J146         0.980952       0.955556                  0.172373    0.17667               3.01282       \n",
            "\u001b[J147         0.971429       0.955556                  0.172993    0.174986              3.03463       \n",
            "\u001b[J148         0.971429       0.933333                  0.17032     0.172967              3.05488       \n",
            "\u001b[J149         0.980952       0.955556                  0.170054    0.173989              3.07763       \n",
            "\u001b[J150         0.980952       0.955556                  0.169852    0.173357              3.09811       \n"
          ],
          "name": "stdout"
        }
      ]
    },
    {
      "cell_type": "markdown",
      "metadata": {
        "id": "My7XWAXUldfX",
        "colab_type": "text"
      },
      "source": [
        "### 6.4.8 結果の確認\n",
        "グラフの目盛りがでんなあ！！！！"
      ]
    },
    {
      "cell_type": "code",
      "metadata": {
        "id": "v-PS3NtunBo-",
        "colab_type": "code",
        "colab": {}
      },
      "source": [
        "import json"
      ],
      "execution_count": 0,
      "outputs": []
    },
    {
      "cell_type": "code",
      "metadata": {
        "id": "dDL4vv4unGJU",
        "colab_type": "code",
        "colab": {
          "base_uri": "https://localhost:8080/",
          "height": 63
        },
        "outputId": "5689d76b-3432-481d-d3dd-59b1b1adadbf"
      },
      "source": [
        "!ls result/log"
      ],
      "execution_count": 332,
      "outputs": [
        {
          "output_type": "stream",
          "text": [
            "result/log\n"
          ],
          "name": "stdout"
        }
      ]
    },
    {
      "cell_type": "code",
      "metadata": {
        "id": "UJYUbs1wnHPf",
        "colab_type": "code",
        "colab": {}
      },
      "source": [
        "with open('result/log')as f:\n",
        "    logs = json.load(f)\n",
        "    results = pd.DataFrame(logs)"
      ],
      "execution_count": 0,
      "outputs": []
    },
    {
      "cell_type": "code",
      "metadata": {
        "id": "PHqOYHRHnUkN",
        "colab_type": "code",
        "colab": {
          "base_uri": "https://localhost:8080/",
          "height": 244
        },
        "outputId": "ea094654-0742-4213-d705-fdedf418e22b"
      },
      "source": [
        "results.head(5)"
      ],
      "execution_count": 334,
      "outputs": [
        {
          "output_type": "execute_result",
          "data": {
            "text/html": [
              "<div>\n",
              "<style scoped>\n",
              "    .dataframe tbody tr th:only-of-type {\n",
              "        vertical-align: middle;\n",
              "    }\n",
              "\n",
              "    .dataframe tbody tr th {\n",
              "        vertical-align: top;\n",
              "    }\n",
              "\n",
              "    .dataframe thead th {\n",
              "        text-align: right;\n",
              "    }\n",
              "</style>\n",
              "<table border=\"1\" class=\"dataframe\">\n",
              "  <thead>\n",
              "    <tr style=\"text-align: right;\">\n",
              "      <th></th>\n",
              "      <th>elapsed_time</th>\n",
              "      <th>epoch</th>\n",
              "      <th>iteration</th>\n",
              "      <th>main/accuracy</th>\n",
              "      <th>main/loss</th>\n",
              "      <th>validation/main/accuracy</th>\n",
              "      <th>validation/main/loss</th>\n",
              "    </tr>\n",
              "  </thead>\n",
              "  <tbody>\n",
              "    <tr>\n",
              "      <th>0</th>\n",
              "      <td>0.018836</td>\n",
              "      <td>1</td>\n",
              "      <td>7</td>\n",
              "      <td>0.314286</td>\n",
              "      <td>1.565474</td>\n",
              "      <td>0.377778</td>\n",
              "      <td>1.203087</td>\n",
              "    </tr>\n",
              "    <tr>\n",
              "      <th>1</th>\n",
              "      <td>0.037314</td>\n",
              "      <td>2</td>\n",
              "      <td>14</td>\n",
              "      <td>0.342857</td>\n",
              "      <td>1.200163</td>\n",
              "      <td>0.377778</td>\n",
              "      <td>1.059256</td>\n",
              "    </tr>\n",
              "    <tr>\n",
              "      <th>2</th>\n",
              "      <td>0.058365</td>\n",
              "      <td>3</td>\n",
              "      <td>21</td>\n",
              "      <td>0.352381</td>\n",
              "      <td>1.054712</td>\n",
              "      <td>0.333333</td>\n",
              "      <td>0.997503</td>\n",
              "    </tr>\n",
              "    <tr>\n",
              "      <th>3</th>\n",
              "      <td>0.077676</td>\n",
              "      <td>4</td>\n",
              "      <td>28</td>\n",
              "      <td>0.447619</td>\n",
              "      <td>0.985642</td>\n",
              "      <td>0.555556</td>\n",
              "      <td>0.964277</td>\n",
              "    </tr>\n",
              "    <tr>\n",
              "      <th>4</th>\n",
              "      <td>0.095296</td>\n",
              "      <td>5</td>\n",
              "      <td>35</td>\n",
              "      <td>0.609524</td>\n",
              "      <td>0.945412</td>\n",
              "      <td>0.555556</td>\n",
              "      <td>0.938647</td>\n",
              "    </tr>\n",
              "  </tbody>\n",
              "</table>\n",
              "</div>"
            ],
            "text/plain": [
              "   elapsed_time  epoch  ...  validation/main/accuracy  validation/main/loss\n",
              "0      0.018836      1  ...                  0.377778              1.203087\n",
              "1      0.037314      2  ...                  0.377778              1.059256\n",
              "2      0.058365      3  ...                  0.333333              0.997503\n",
              "3      0.077676      4  ...                  0.555556              0.964277\n",
              "4      0.095296      5  ...                  0.555556              0.938647\n",
              "\n",
              "[5 rows x 7 columns]"
            ]
          },
          "metadata": {
            "tags": []
          },
          "execution_count": 334
        }
      ]
    },
    {
      "cell_type": "code",
      "metadata": {
        "id": "APJqhaz8ohK6",
        "colab_type": "code",
        "colab": {}
      },
      "source": [
        "%matplotlib inline\n",
        "import matplotlib.pyplot as plt"
      ],
      "execution_count": 0,
      "outputs": []
    },
    {
      "cell_type": "code",
      "metadata": {
        "id": "tJh_soJkor3a",
        "colab_type": "code",
        "colab": {
          "base_uri": "https://localhost:8080/",
          "height": 269
        },
        "outputId": "c6691e08-3844-47e4-b0c3-99e97a449a83"
      },
      "source": [
        "# accuracy（精度）を表示\n",
        "res = results[['main/accuracy', 'validation/main/accuracy']].plot()"
      ],
      "execution_count": 336,
      "outputs": [
        {
          "output_type": "display_data",
          "data": {
            "image/png": "[encoded data removed]",
            "text/plain": [
              "<Figure size 432x288 with 1 Axes>"
            ]
          },
          "metadata": {
            "tags": []
          }
        }
      ]
    },
    {
      "cell_type": "code",
      "metadata": {
        "id": "6fIYU69vo00w",
        "colab_type": "code",
        "colab": {
          "base_uri": "https://localhost:8080/",
          "height": 286
        },
        "outputId": "0dfa71d6-a020-42d5-b144-9d991f39731e"
      },
      "source": [
        "# loss（損失関数）を表示\n",
        "results[['main/loss', 'validation/main/loss']].plot()"
      ],
      "execution_count": 337,
      "outputs": [
        {
          "output_type": "execute_result",
          "data": {
            "text/plain": [
              "<matplotlib.axes._subplots.AxesSubplot at 0x7f3fef02c588>"
            ]
          },
          "metadata": {
            "tags": []
          },
          "execution_count": 337
        },
        {
          "output_type": "display_data",
          "data": {
            "image/png": "[encoded data removed]",
            "text/plain": [
              "<Figure size 432x288 with 1 Axes>"
            ]
          },
          "metadata": {
            "tags": []
          }
        }
      ]
    },
    {
      "cell_type": "markdown",
      "metadata": {
        "id": "4vGDYns2pCsJ",
        "colab_type": "text"
      },
      "source": [
        "### 6.4.9 学習済みモデルを保存"
      ]
    },
    {
      "cell_type": "code",
      "metadata": {
        "id": "FIGaRwHntgQL",
        "colab_type": "code",
        "colab": {}
      },
      "source": [
        ""
      ],
      "execution_count": 0,
      "outputs": []
    },
    {
      "cell_type": "markdown",
      "metadata": {
        "id": "JqlSh4_ttYsF",
        "colab_type": "text"
      },
      "source": [
        "### 6.4.10 学習済みモデルを使用した推論"
      ]
    },
    {
      "cell_type": "code",
      "metadata": {
        "id": "q0nOVlKStdqz",
        "colab_type": "code",
        "colab": {}
      },
      "source": [
        ""
      ],
      "execution_count": 0,
      "outputs": []
    }
  ]
}